{
 "cells": [
  {
   "cell_type": "code",
   "execution_count": 1,
   "metadata": {},
   "outputs": [],
   "source": [
    "import pandas as pd\n",
    "import joblib"
   ]
  },
  {
   "cell_type": "code",
   "execution_count": 2,
   "metadata": {},
   "outputs": [],
   "source": [
    "subs = pd.read_csv(r\"subs_test_predictions.csv\")\n",
    "bodieswS = pd.read_csv(r\"bodieswS_test_predictions.csv\")\n",
    "W2v = pd.read_csv(r\"spacyW2v_test_predictions.csv\")"
   ]
  },
  {
   "cell_type": "code",
   "execution_count": 3,
   "metadata": {},
   "outputs": [],
   "source": [
    "#svm = joblib.load(r\"Q:\\tooBigToDrive\\data-mining\\kaggle\\my_models\\spaCy\\savedModels\\svm\\svm.sav\")\n",
    "lr = joblib.load(r\"Q:\\tooBigToDrive\\data-mining\\kaggle\\my_models\\spaCy\\savedModels\\lr_adasyn\\lr_adasyn.sav\")"
   ]
  },
  {
   "cell_type": "code",
   "execution_count": 4,
   "metadata": {},
   "outputs": [],
   "source": [
    "df = pd.DataFrame({\"subs\": subs[\"pred_y\"].tolist(), \"bodieswS\": bodieswS[\"pred_y\"].tolist(), \"W2v\": W2v[\"pred_y\"].tolist()})"
   ]
  },
  {
   "cell_type": "code",
   "execution_count": 5,
   "metadata": {},
   "outputs": [
    {
     "name": "stdout",
     "output_type": "stream",
     "text": [
      "[[0.27114913 0.01077099 0.04565962]\n",
      " [0.32025427 0.95815259 0.584287  ]\n",
      " [0.11948037 0.0448686  0.23606443]\n",
      " [0.27441698 0.46897009 0.28487484]\n",
      " [0.1256479  0.05315585 0.78758538]]\n"
     ]
    }
   ],
   "source": [
    "X = df.to_numpy()\n",
    "print(X[0:5])"
   ]
  },
  {
   "cell_type": "code",
   "execution_count": 6,
   "metadata": {},
   "outputs": [],
   "source": [
    "# sols = svm.predict_proba(X)[:,1]\n",
    "# print(sols[:5])"
   ]
  },
  {
   "cell_type": "code",
   "execution_count": 7,
   "metadata": {},
   "outputs": [
    {
     "name": "stdout",
     "output_type": "stream",
     "text": [
      "[0.14656961 0.97952294 0.17106152 0.71290015 0.28597205]\n"
     ]
    }
   ],
   "source": [
    "sols = lr.predict_proba(X)[:,1]\n",
    "print(sols[:5])"
   ]
  },
  {
   "cell_type": "code",
   "execution_count": null,
   "metadata": {},
   "outputs": [],
   "source": []
  },
  {
   "cell_type": "code",
   "execution_count": 8,
   "metadata": {},
   "outputs": [
    {
     "name": "stdout",
     "output_type": "stream",
     "text": [
      "           author    gender\n",
      "0    --redbeard--  0.146570\n",
      "1       -Allaina-  0.979523\n",
      "2  -AllonsyAlonso  0.171062\n",
      "3          -Beth-  0.712900\n",
      "4        -Greeny-  0.285972\n"
     ]
    }
   ],
   "source": [
    "solution = pd.DataFrame({\"author\": subs[\"author\"].tolist(), \"gender\":sols})\n",
    "print(solution.head())"
   ]
  },
  {
   "cell_type": "code",
   "execution_count": 9,
   "metadata": {},
   "outputs": [],
   "source": [
    "solution.to_csv(r\"Q:\\tooBigToDrive\\data-mining\\kaggle\\my_models\\spaCy\\results\\finals\\csv\\test\\lrSolution_adasyn.csv\", index = False)"
   ]
  },
  {
   "cell_type": "code",
   "execution_count": 10,
   "metadata": {},
   "outputs": [],
   "source": [
    "# sols1 = [1 if s >= 0.5 else 0 for s in sols]\n",
    "# print(sols1[:5])"
   ]
  },
  {
   "cell_type": "code",
   "execution_count": 11,
   "metadata": {},
   "outputs": [],
   "source": [
    "# solution1 = pd.DataFrame({\"author\": subs[\"author\"].tolist(), \"gender\": sols1})\n",
    "# solution1.to_csv(r\"Q:\\tooBigToDrive\\data-mining\\kaggle\\my_models\\spaCy\\results\\finals\\csv\\test\\lrSolution_adasyn.csv\", index = False)"
   ]
  }
 ],
 "metadata": {
  "kernelspec": {
   "display_name": "Python [conda env:myEnv]",
   "language": "python",
   "name": "conda-env-myEnv-py"
  },
  "language_info": {
   "codemirror_mode": {
    "name": "ipython",
    "version": 3
   },
   "file_extension": ".py",
   "mimetype": "text/x-python",
   "name": "python",
   "nbconvert_exporter": "python",
   "pygments_lexer": "ipython3",
   "version": "3.7.6"
  }
 },
 "nbformat": 4,
 "nbformat_minor": 4
}
