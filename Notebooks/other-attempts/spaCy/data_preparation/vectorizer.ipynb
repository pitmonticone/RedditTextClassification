{
 "cells": [
  {
   "cell_type": "markdown",
   "metadata": {},
   "source": [
    "# Vectorizer\n",
    "\n",
    "This notebook takes all preprocessings and vectorizes them, in order to be classified with the MLP. As an exploration, we used spaCy's pre-trained vectors. Note that the docuemnt vectors are obtained from the word vectors via an average. "
   ]
  },
  {
   "cell_type": "code",
   "execution_count": null,
   "metadata": {},
   "outputs": [],
   "source": [
    "import spacy\n",
    "import pandas as pd\n",
    "import numpy as np\n",
    "from progressbar import ProgressBar, Bar, Percentage\n",
    "from os import listdir\n",
    "from os.path import isfile, join"
   ]
  },
  {
   "cell_type": "markdown",
   "metadata": {},
   "source": [
    "Load the big model (as per [documentation](https://spacy.io/usage/vectors-similarity)"
   ]
  },
  {
   "cell_type": "code",
   "execution_count": null,
   "metadata": {},
   "outputs": [],
   "source": [
    "nlp = spacy.load(r\"Q:\\anaconda\\Lib\\site-packages\\en_core_web_lg\\en_core_web_lg-2.2.5\")"
   ]
  },
  {
   "cell_type": "code",
   "execution_count": null,
   "metadata": {},
   "outputs": [],
   "source": [
    "%%time\n",
    "\n",
    "def_str = r\"Q:\\\\tooBigToDrive\\data-mining\\kaggle\\data\\csv\"\n",
    "path = r\"Q:\\tooBigToDrive\\data-mining\\kaggle\\data\\csv\"\n",
    "files = listdir(def_str)\n",
    "files = [f.replace(\".csv\",\"\") for f in files if \"Agg\" in f]\n",
    "\n",
    "for s in files:\n",
    "    csvPath = def_str +\"\\\\\"+ s + \".csv\"\n",
    "    npyPath = def_str +\"\\\\\"+ s +\"sSub\"+ \".npy\"\n",
    "    train = pd.read_csv(csvPath)\n",
    "    train.replace(to_replace = \"empty\", value = \"\", inplace = True)\n",
    "    train[\"body\"].fillna(\"\",inplace = True)\n",
    "    # enable this to add subreddits to body \n",
    "    train[\"body\"] = train[\"subreddit\"]+\" \"+train[\"body\"]\n",
    "    to_be_vectorized = train[\"body\"].tolist()\n",
    "    vectorsl = []\n",
    "    print(\"doing\"+\" \"+s+\".csv ...\", \"len(to_be_vectorized) = \",len(to_be_vectorized) )\n",
    "    pbar = ProgressBar(widgets=[Percentage(), Bar()], maxval=len(to_be_vectorized)).start()\n",
    "    i = 0\n",
    "    # disable parser and ner pipes to have better performance\n",
    "    with nlp.disable_pipes():\n",
    "        for tex in to_be_vectorized:\n",
    "            vectorsl.append(nlp(tex).vector)\n",
    "            i += 1\n",
    "            pbar.update(i)\n",
    "    pbar.finish()\n",
    "    vectors = np.array(vectorsl)\n",
    "    np.save(npyPath,vectors)\n",
    "    print(\"done\")\n"
   ]
  }
 ],
 "metadata": {
  "kernelspec": {
   "display_name": "Python [conda env:myEnv]",
   "language": "python",
   "name": "conda-env-myEnv-py"
  },
  "language_info": {
   "codemirror_mode": {
    "name": "ipython",
    "version": 3
   },
   "file_extension": ".py",
   "mimetype": "text/x-python",
   "name": "python",
   "nbconvert_exporter": "python",
   "pygments_lexer": "ipython3",
   "version": "3.7.6"
  }
 },
 "nbformat": 4,
 "nbformat_minor": 4
}
