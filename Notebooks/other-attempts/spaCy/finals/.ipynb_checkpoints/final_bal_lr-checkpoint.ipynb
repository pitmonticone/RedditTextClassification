{
 "cells": [
  {
   "cell_type": "code",
   "execution_count": 26,
   "metadata": {},
   "outputs": [],
   "source": [
    "import pandas as pd \n",
    "from sklearn.metrics import roc_curve, auc\n",
    "from sklearn.model_selection import train_test_split\n",
    "from sklearn.model_selection import KFold\n",
    "import matplotlib.pyplot as plt\n",
    "import numpy as np\n",
    "from sklearn.linear_model import LogisticRegression\n",
    "import joblib"
   ]
  },
  {
   "cell_type": "code",
   "execution_count": 27,
   "metadata": {},
   "outputs": [],
   "source": [
    "subs = pd.read_csv(r\"subs_bal.csv\")\n",
    "W2v= pd.read_csv(r\"W2v_bal.csv\")\n",
    "bodieswSdrop = pd.read_csv(r\"bodieswSdrop_bal.csv\")"
   ]
  },
  {
   "cell_type": "code",
   "execution_count": 28,
   "metadata": {},
   "outputs": [
    {
     "name": "stdout",
     "output_type": "stream",
     "text": [
      "   true_y  bodieswSdrop_y    subs_y     W2v_y\n",
      "0       0        0.004841  0.354758  0.505174\n",
      "1       0        0.959119  0.556274  0.217193\n",
      "2       0        0.124737  0.321295  0.338535\n",
      "3       0        0.975953  0.398921  0.818394\n",
      "4       0        0.978466  0.354308  0.656013\n"
     ]
    }
   ],
   "source": [
    "df = pd.DataFrame({\"true_y\": bodieswSdrop[\"true_y\"].tolist(), \"bodieswSdrop_y\":bodieswSdrop[\"pred_y\"].tolist(), \"subs_y\": subs[\"pred_y\"].tolist(), \"W2v_y\": W2v[\"pred_y\"].tolist() })\n",
    "print(df.head(5))"
   ]
  },
  {
   "cell_type": "code",
   "execution_count": 29,
   "metadata": {},
   "outputs": [
    {
     "name": "stdout",
     "output_type": "stream",
     "text": [
      "   bodieswSdrop_y    subs_y     W2v_y\n",
      "0        0.004841  0.354758  0.505174\n",
      "1        0.959119  0.556274  0.217193\n",
      "2        0.124737  0.321295  0.338535\n",
      "3        0.975953  0.398921  0.818394\n",
      "4        0.978466  0.354308  0.656013\n"
     ]
    }
   ],
   "source": [
    "X = df.loc[:, [\"bodieswSdrop_y\", \"subs_y\", \"W2v_y\"]]  # \"bodieswSdrop_y\", \"subs_y\", \"W2v_y\"  #, \"subs_y\", \"W2v_y\"\n",
    "print(X.head(5))\n",
    "y = df.true_y"
   ]
  },
  {
   "cell_type": "code",
   "execution_count": 30,
   "metadata": {},
   "outputs": [
    {
     "name": "stdout",
     "output_type": "stream",
     "text": [
      "2842 2842 (2842, 3) (2842,)\n"
     ]
    }
   ],
   "source": [
    "X = X.to_numpy()\n",
    "y = y.to_numpy()\n",
    "print(len(X), len(y), X.shape, y.shape)"
   ]
  },
  {
   "cell_type": "code",
   "execution_count": 31,
   "metadata": {},
   "outputs": [
    {
     "name": "stdout",
     "output_type": "stream",
     "text": [
      "done 1\n",
      "done 1\n",
      "done 1\n",
      "done 1\n",
      "done 1\n",
      "done 1\n",
      "done 1\n",
      "done 1\n",
      "done 1\n",
      "done 1\n"
     ]
    }
   ],
   "source": [
    "lrClf = LogisticRegression(C = 1)  #modello\n",
    "              \n",
    "kf = KFold(n_splits = 10, shuffle = True)\n",
    "\n",
    "for train_indices, test_indices in kf.split(X):\n",
    "    lrClf.fit(X[train_indices], y[train_indices])\n",
    "    print(\"done 1\")"
   ]
  },
  {
   "cell_type": "code",
   "execution_count": 32,
   "metadata": {},
   "outputs": [
    {
     "data": {
      "text/plain": [
       "['Q:\\\\tooBigToDrive\\\\data-mining\\\\kaggle\\\\my_models\\\\spaCy\\\\savedModels\\\\bal_lr\\\\bal_lr.sav']"
      ]
     },
     "execution_count": 32,
     "metadata": {},
     "output_type": "execute_result"
    }
   ],
   "source": [
    "joblib.dump(lrClf , r\"bal_lr\\bal_lr.sav\")"
   ]
  }
 ],
 "metadata": {
  "kernelspec": {
   "display_name": "Python [conda env:myEnv]",
   "language": "python",
   "name": "conda-env-myEnv-py"
  },
  "language_info": {
   "codemirror_mode": {
    "name": "ipython",
    "version": 3
   },
   "file_extension": ".py",
   "mimetype": "text/x-python",
   "name": "python",
   "nbconvert_exporter": "python",
   "pygments_lexer": "ipython3",
   "version": "3.7.6"
  }
 },
 "nbformat": 4,
 "nbformat_minor": 4
}
