{
 "cells": [
  {
   "cell_type": "code",
   "execution_count": 5,
   "metadata": {},
   "outputs": [
    {
     "name": "stderr",
     "output_type": "stream",
     "text": [
      "Using TensorFlow backend.\n",
      "Q:\\anaconda\\envs\\myEnv\\lib\\site-packages\\tensorflow\\python\\framework\\dtypes.py:523: FutureWarning: Passing (type, 1) or '1type' as a synonym of type is deprecated; in a future version of numpy, it will be understood as (type, (1,)) / '(1,)type'.\n",
      "  _np_qint8 = np.dtype([(\"qint8\", np.int8, 1)])\n",
      "Q:\\anaconda\\envs\\myEnv\\lib\\site-packages\\tensorflow\\python\\framework\\dtypes.py:524: FutureWarning: Passing (type, 1) or '1type' as a synonym of type is deprecated; in a future version of numpy, it will be understood as (type, (1,)) / '(1,)type'.\n",
      "  _np_quint8 = np.dtype([(\"quint8\", np.uint8, 1)])\n",
      "Q:\\anaconda\\envs\\myEnv\\lib\\site-packages\\tensorflow\\python\\framework\\dtypes.py:525: FutureWarning: Passing (type, 1) or '1type' as a synonym of type is deprecated; in a future version of numpy, it will be understood as (type, (1,)) / '(1,)type'.\n",
      "  _np_qint16 = np.dtype([(\"qint16\", np.int16, 1)])\n",
      "Q:\\anaconda\\envs\\myEnv\\lib\\site-packages\\tensorflow\\python\\framework\\dtypes.py:526: FutureWarning: Passing (type, 1) or '1type' as a synonym of type is deprecated; in a future version of numpy, it will be understood as (type, (1,)) / '(1,)type'.\n",
      "  _np_quint16 = np.dtype([(\"quint16\", np.uint16, 1)])\n",
      "Q:\\anaconda\\envs\\myEnv\\lib\\site-packages\\tensorflow\\python\\framework\\dtypes.py:527: FutureWarning: Passing (type, 1) or '1type' as a synonym of type is deprecated; in a future version of numpy, it will be understood as (type, (1,)) / '(1,)type'.\n",
      "  _np_qint32 = np.dtype([(\"qint32\", np.int32, 1)])\n",
      "Q:\\anaconda\\envs\\myEnv\\lib\\site-packages\\tensorflow\\python\\framework\\dtypes.py:532: FutureWarning: Passing (type, 1) or '1type' as a synonym of type is deprecated; in a future version of numpy, it will be understood as (type, (1,)) / '(1,)type'.\n",
      "  np_resource = np.dtype([(\"resource\", np.ubyte, 1)])\n"
     ]
    }
   ],
   "source": [
    "import pandas as pd \n",
    "from sklearn.metrics import roc_curve, auc\n",
    "from sklearn.model_selection import train_test_split\n",
    "from sklearn.model_selection import KFold\n",
    "import matplotlib.pyplot as plt\n",
    "import numpy as np\n",
    "from sklearn.linear_model import LogisticRegression\n",
    "import joblib\n",
    "from imblearn.over_sampling import ADASYN "
   ]
  },
  {
   "cell_type": "code",
   "execution_count": 6,
   "metadata": {},
   "outputs": [],
   "source": [
    "bodies = pd.read_csv(r\"bodies.csv\")\n",
    "bodieswS = pd.read_csv(r\"bodieswS.csv\")\n",
    "subs = pd.read_csv(r\"subs.csv\")\n",
    "W2v= pd.read_csv(r\"W2v.csv\")\n",
    "W2vwS = pd.read_csv(r\"W2vwS.csv\")\n",
    "bodieswSdrop = pd.read_csv(r\"bodieswSdrop.csv\")"
   ]
  },
  {
   "cell_type": "code",
   "execution_count": 7,
   "metadata": {},
   "outputs": [
    {
     "name": "stdout",
     "output_type": "stream",
     "text": [
      "   true_y  bodies_y  bodieswS_y    subs_y     W2v_y   W2vwS_y  bodieswSdrop_y\n",
      "0       0  0.094856    0.120936  0.193810  0.093180  0.060750        0.046726\n",
      "1       1  0.106738    0.099757  0.478376  0.178994  0.149258        0.044623\n",
      "2       0  0.549541    0.253948  0.338182  0.892713  0.913806        0.222466\n",
      "3       1  0.425894    0.838085  0.374291  0.856181  0.820273        0.900915\n",
      "4       0  0.553865    0.341898  0.284349  0.461019  0.478457        0.525452\n"
     ]
    }
   ],
   "source": [
    "df = pd.DataFrame({\"true_y\": bodies[\"true_y\"].tolist(), \"bodies_y\":bodies[\"pred_y\"].tolist(), \"bodieswS_y\": bodieswS[\"pred_y\"].tolist(), \"subs_y\": subs[\"pred_y\"].tolist(), \"W2v_y\": W2v[\"pred_y\"].tolist(), \"W2vwS_y\": W2vwS[\"pred_y\"].tolist(), \"bodieswSdrop_y\":bodieswSdrop[\"pred_y\"].tolist() })\n",
    "print(df.head(5))"
   ]
  },
  {
   "cell_type": "code",
   "execution_count": 8,
   "metadata": {},
   "outputs": [
    {
     "name": "stdout",
     "output_type": "stream",
     "text": [
      "   bodieswSdrop_y    subs_y     W2v_y\n",
      "0        0.046726  0.193810  0.093180\n",
      "1        0.044623  0.478376  0.178994\n",
      "2        0.222466  0.338182  0.892713\n",
      "3        0.900915  0.374291  0.856181\n",
      "4        0.525452  0.284349  0.461019\n",
      "len(X) before adasyn:  1000 len(y_train) before adasyn: 1000 percentage before:  0.265\n",
      "len(X) after adasyn:  1467 len(y) after adasyn: 1467 percentage after:  0.49897750511247446\n"
     ]
    }
   ],
   "source": [
    "X = df.loc[:, [\"bodieswSdrop_y\", \"subs_y\", \"W2v_y\"]] #, \"subs_y\", \"W2v_y\"\n",
    "print(X.head(5))\n",
    "y = df.true_y\n",
    "\n",
    "sm = ADASYN()\n",
    "print(\"len(X) before adasyn: \",len(X), \"len(y_train) before adasyn:\", len(y), \"percentage before: \", sum(y.tolist())/len(y.tolist()))\n",
    "X, y = sm.fit_sample(X, y)\n",
    "print(\"len(X) after adasyn: \",len(X), \"len(y) after adasyn:\", len(y), \"percentage after: \", sum(y.tolist())/len(y.tolist()))\n",
    "#sum(y_validation.tolist())/len(y_validation.tolist())\n"
   ]
  },
  {
   "cell_type": "code",
   "execution_count": 9,
   "metadata": {},
   "outputs": [
    {
     "name": "stdout",
     "output_type": "stream",
     "text": [
      "1467 1467 (1467, 3) (1467,)\n"
     ]
    }
   ],
   "source": [
    "X = X.to_numpy()\n",
    "y = y.to_numpy()\n",
    "print(len(X), len(y), X.shape, y.shape)"
   ]
  },
  {
   "cell_type": "code",
   "execution_count": 10,
   "metadata": {},
   "outputs": [
    {
     "name": "stdout",
     "output_type": "stream",
     "text": [
      "done 1\n",
      "done 1\n",
      "done 1\n",
      "done 1\n",
      "done 1\n",
      "done 1\n",
      "done 1\n",
      "done 1\n",
      "done 1\n",
      "done 1\n"
     ]
    }
   ],
   "source": [
    "lrClf = LogisticRegression(C = 1)  #modello\n",
    "              \n",
    "kf = KFold(n_splits = 10)\n",
    "\n",
    "for train_indices, test_indices in kf.split(X):\n",
    "    lrClf.fit(X[train_indices], y[train_indices])\n",
    "    print(\"done 1\")\n",
    "#     print(svm.score(x_train[test_indices], y_train[test_indices]))\n",
    "# y_scoreSVM = svm.predict_proba(x_validation)[:,1]"
   ]
  },
  {
   "cell_type": "code",
   "execution_count": 11,
   "metadata": {},
   "outputs": [
    {
     "data": {
      "text/plain": [
       "['Q:\\\\tooBigToDrive\\\\data-mining\\\\kaggle\\\\my_models\\\\spaCy\\\\savedModels\\\\lr_adasyn\\\\lr_adasyn.sav']"
      ]
     },
     "execution_count": 11,
     "metadata": {},
     "output_type": "execute_result"
    }
   ],
   "source": [
    "joblib.dump(lrClf , r\"lr_adasyn\\lr_adasyn.sav\")"
   ]
  }
 ],
 "metadata": {
  "kernelspec": {
   "display_name": "Python [conda env:myEnv]",
   "language": "python",
   "name": "conda-env-myEnv-py"
  },
  "language_info": {
   "codemirror_mode": {
    "name": "ipython",
    "version": 3
   },
   "file_extension": ".py",
   "mimetype": "text/x-python",
   "name": "python",
   "nbconvert_exporter": "python",
   "pygments_lexer": "ipython3",
   "version": "3.7.6"
  }
 },
 "nbformat": 4,
 "nbformat_minor": 4
}
