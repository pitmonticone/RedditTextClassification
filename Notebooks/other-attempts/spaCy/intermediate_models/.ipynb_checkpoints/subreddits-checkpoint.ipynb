{
 "cells": [
  {
   "cell_type": "markdown",
   "metadata": {},
   "source": [
    "# Exploration with subreddits\n",
    "\n",
    "Explore bow, simple_cnn and ensemble architecture. Visual Evaluation of overfitting.  Test prediction output"
   ]
  },
  {
   "cell_type": "code",
   "execution_count": 1,
   "metadata": {},
   "outputs": [],
   "source": [
    "import sys\n",
    "import pandas as pd\n",
    "from collections import defaultdict\n",
    "import spacy\n",
    "import math   \n",
    "from spacy.util import minibatch , compounding\n",
    "import random\n",
    "import torch\n",
    "import numpy as np\n",
    "from sklearn.utils import shuffle\n",
    "from progressbar import ProgressBar, Bar, Percentage\n",
    "from sklearn.metrics import roc_auc_score\n",
    "import matplotlib.pyplot as plt"
   ]
  },
  {
   "cell_type": "code",
   "execution_count": 51,
   "metadata": {},
   "outputs": [],
   "source": [
    "# load data and targets\n",
    "train_data_full = pd.read_csv(\"train_data.csv\")\n",
    "train_target_full = pd.read_csv(\"train_target.csv\")\n",
    "test_data = pd.read_csv(\"lPunctNumStopLemOovAggTest.csv\") # this is a version of the test_data.csv where i grouped by the \"author\" column and aggregated the subreddits with \" \".join."
   ]
  },
  {
   "cell_type": "code",
   "execution_count": 52,
   "metadata": {},
   "outputs": [],
   "source": [
    "# create a dictionary of the type {\"author1\": \"subreddit1_1 subreddit1_2 subreddit1_3\", \"author2\": \"subreddit2_1 subreddit2_2\", ...} such that subredditI_J != from subredditI_K for all J != K\n",
    "features_dict = {}\n",
    "for author, group in train_data_full.groupby(\"author\"):\n",
    "    features_dict[author] = \" \".join(group[\"subreddit\"].unique())"
   ]
  },
  {
   "cell_type": "code",
   "execution_count": 53,
   "metadata": {},
   "outputs": [
    {
     "name": "stdout",
     "output_type": "stream",
     "text": [
      "['AskReddit tall pics StarWars', 'gainit', 'MouseReview MechanicalKeyboards jailbreak AskReddit', 'AskWomen AskMen', 'mildlyinteresting todayilearned']\n"
     ]
    }
   ],
   "source": [
    "print(list(features_dict.values())[:5])"
   ]
  },
  {
   "cell_type": "code",
   "execution_count": 54,
   "metadata": {},
   "outputs": [],
   "source": [
    "# define dictionary of the kind : {\"author\": [\"author1\", \"author2\", ...], \"subreddit\": [\"subreddit1_1 subreddit1_2 subreddit1_3\",\"subreddit2_1 subreddit2_2\", ... ]}\n",
    "to_be_dfed = {\"author\": list(features_dict.keys()) , \"subreddit\" : list(features_dict.values()) }"
   ]
  },
  {
   "cell_type": "code",
   "execution_count": 55,
   "metadata": {},
   "outputs": [
    {
     "name": "stdout",
     "output_type": "stream",
     "text": [
      "           author                                          subreddit\n",
      "0          -Jared                       AskReddit tall pics StarWars\n",
      "1         -Peeter                                             gainit\n",
      "2        -evasian  MouseReview MechanicalKeyboards jailbreak AskR...\n",
      "3         -rubiks                                    AskWomen AskMen\n",
      "4  -true_neutral-                    mildlyinteresting todayilearned\n"
     ]
    }
   ],
   "source": [
    "# turn it into a dataframe\n",
    "author_subrdts = pd.DataFrame.from_dict(to_be_dfed)\n",
    "print(author_subrdts.head(5))"
   ]
  },
  {
   "cell_type": "code",
   "execution_count": 56,
   "metadata": {},
   "outputs": [
    {
     "name": "stdout",
     "output_type": "stream",
     "text": [
      "ok\n"
     ]
    }
   ],
   "source": [
    "# create a gender list such that the gender of author_subrdts.loc[i,\"author\"] equuals gender[i]\n",
    "gender = [0 for i in range(len(author_subrdts))]\n",
    "\n",
    "for idx, row in train_target_full.iterrows():\n",
    "    if row.gender == 1:\n",
    "        indexes = author_subrdts.index[author_subrdts[\"author\"] == row.author].tolist()\n",
    "        for i in indexes:\n",
    "                gender[i] += 1\n",
    "\n",
    "if(len(np.unique(gender) == 2)):\n",
    "    print(\"ok\")\n",
    "else:\n",
    "    print(\"there has been an error with gender recognition, please halt the program now\")"
   ]
  },
  {
   "cell_type": "code",
   "execution_count": 57,
   "metadata": {},
   "outputs": [
    {
     "name": "stdout",
     "output_type": "stream",
     "text": [
      "             author                                          subreddit  gender\n",
      "0            -Jared                       AskReddit tall pics StarWars       0\n",
      "1           -Peeter                                             gainit       0\n",
      "2          -evasian  MouseReview MechanicalKeyboards jailbreak AskR...       0\n",
      "3           -rubiks                                    AskWomen AskMen       1\n",
      "4    -true_neutral-                    mildlyinteresting todayilearned       0\n",
      "5           -willis                       tipofmytongue ifyoulikeblank       0\n",
      "6          00708070                                myfriendwantstoknow       0\n",
      "7           0200008                                          AskReddit       1\n",
      "8         05Lanky05                                  trees bestof IAmA       0\n",
      "9   0urlittlesecret  gonewild dirtypenpals AdviceAnimals gifs world...       0\n",
      "10        0utlander  totalwar AskReddit gameofthrones MapPorn Fallo...       0\n",
      "11            0xJRS  Nootropics aww Entrepreneur golf consulting Fi...       0\n",
      "12        105Hummel  TheFalloutDiaries falloutlore tipofmytongue Fa...       0\n",
      "13       11235813__        funny AskReddit swtor secretsanta australia       0\n",
      "14         12013177                            tightdresses funny gifs       0\n"
     ]
    }
   ],
   "source": [
    "# add the column to the data frame\n",
    "author_subrdts[\"gender\"] = gender\n",
    "print(author_subrdts.head(15))"
   ]
  },
  {
   "cell_type": "code",
   "execution_count": 58,
   "metadata": {},
   "outputs": [
    {
     "name": "stdout",
     "output_type": "stream",
     "text": [
      "len(train_texts) =  4000 len(test_texts) =  1000\n",
      "len(test_texts) == len(test_labels) :  True\n",
      "len(train_data) =  4000 len(test_data) =  1000\n"
     ]
    }
   ],
   "source": [
    "# split data frame in train and validation (notice: train_labels is in the ofrmat spacy requires)\n",
    "split = math.floor(len(author_subrdts)*0.8)\n",
    "\n",
    "seed = 100\n",
    "\n",
    "train_df = author_subrdts.sample(split ,random_state=seed )\n",
    "test_df = author_subrdts.drop(train_df.index)\n",
    "\n",
    "train_texts  = train_df[\"subreddit\"].tolist()\n",
    "test_texts =  test_df[\"subreddit\"].tolist()\n",
    "\n",
    "train_labels = [{'cats': {'1': label == 1,'0': label == 0}} for label in train_df[\"gender\"].tolist()]\n",
    "\n",
    "\n",
    "\n",
    "test_labels = [i for i in test_df[\"gender\"].tolist()]  \n",
    "train_data  = list(zip(train_texts, train_labels))\n",
    "print(\"len(train_texts) = \",len(train_texts),\"len(test_texts) = \" , len(test_texts))\n",
    "print(\"len(test_texts) == len(test_labels) : \", len(test_texts) == len(test_labels) )\n",
    "print(\"len(train_data) = \",len(train_data), \"len(test_data) = \", len(test_texts))"
   ]
  },
  {
   "cell_type": "code",
   "execution_count": 59,
   "metadata": {},
   "outputs": [
    {
     "data": {
      "text/plain": [
       "1"
      ]
     },
     "execution_count": 59,
     "metadata": {},
     "output_type": "execute_result"
    }
   ],
   "source": [
    "# load a learner that speaks english\n",
    "nlp = spacy.blank(\"en\")\n",
    "\n",
    "# Create the TextCategorizer with exclusive classes and \"bow\" (bag of words) architecture. The TextCategorizer is the element of the nlp pipe we will be training.\n",
    "if 'textcat' not in nlp.pipe_names:\n",
    "    textcat = nlp.create_pipe(\n",
    "                  \"textcat\",\n",
    "                  config={\"exclusive_classes\": True, \"architecture\": \"ensemble\"  }) #\"bow\"\n",
    "    nlp.add_pipe(textcat)\n",
    "else:\n",
    "    textcat = nlp.get_pipe('textcat')\n",
    "\n",
    "# add labels \n",
    "textcat.add_label(\"1\")\n",
    "textcat.add_label(\"0\")\n"
   ]
  },
  {
   "cell_type": "code",
   "execution_count": 60,
   "metadata": {},
   "outputs": [],
   "source": [
    "# this function will evaluate roc at the end of each epoch of training.\n",
    "def evaluate_roc(nlp,textcat):\n",
    "    print(\"evaluating roc \\n\")\n",
    "    docs = [nlp.tokenizer(tex) for tex in test_texts]\n",
    "    scores , a = textcat.predict(docs)\n",
    "    y_pred = [b[0] for b in scores] \n",
    "    roc = roc_auc_score(test_labels, y_pred)\n",
    "    return roc"
   ]
  },
  {
   "cell_type": "code",
   "execution_count": 61,
   "metadata": {},
   "outputs": [
    {
     "name": "stderr",
     "output_type": "stream",
     "text": [
      "  0%|                                                                         |\r"
     ]
    },
    {
     "name": "stdout",
     "output_type": "stream",
     "text": [
      "random seeds set\n",
      "strings and lists initialized\n",
      "pipe_exceptions defined\n",
      "other_pipes defined\n",
      "shuffling data...\n",
      "creating batches...\n",
      "training...\n"
     ]
    },
    {
     "name": "stderr",
     "output_type": "stream",
     "text": [
      "100%|#########################################################################|\n"
     ]
    },
    {
     "name": "stdout",
     "output_type": "stream",
     "text": [
      "i =  736\n",
      "evaluating roc \n",
      "\n"
     ]
    },
    {
     "name": "stderr",
     "output_type": "stream",
     "text": [
      "  0%|                                                                         |\r"
     ]
    },
    {
     "name": "stdout",
     "output_type": "stream",
     "text": [
      "epoch =  0  losses =  {'textcat': 9.823404482362093} roc =  0.8894467975869593 i =  736\n",
      "shuffling data...\n",
      "creating batches...\n",
      "training...\n"
     ]
    },
    {
     "name": "stderr",
     "output_type": "stream",
     "text": [
      "100%|#########################################################################|\n"
     ]
    },
    {
     "name": "stdout",
     "output_type": "stream",
     "text": [
      "i =  736\n",
      "evaluating roc \n",
      "\n"
     ]
    },
    {
     "name": "stderr",
     "output_type": "stream",
     "text": [
      "  0%|                                                                         |\r"
     ]
    },
    {
     "name": "stdout",
     "output_type": "stream",
     "text": [
      "epoch =  1  losses =  {'textcat': 16.006812849847847} roc =  0.9006135284302401 i =  736\n",
      "shuffling data...\n",
      "creating batches...\n",
      "training...\n"
     ]
    },
    {
     "name": "stderr",
     "output_type": "stream",
     "text": [
      "100%|#########################################################################|\n"
     ]
    },
    {
     "name": "stdout",
     "output_type": "stream",
     "text": [
      "i =  736\n",
      "evaluating roc \n",
      "\n"
     ]
    },
    {
     "name": "stderr",
     "output_type": "stream",
     "text": [
      "  0%|                                                                         |\r"
     ]
    },
    {
     "name": "stdout",
     "output_type": "stream",
     "text": [
      "epoch =  2  losses =  {'textcat': 20.781789980873555} roc =  0.8967988704915928 i =  736\n",
      "shuffling data...\n",
      "creating batches...\n",
      "training...\n"
     ]
    },
    {
     "name": "stderr",
     "output_type": "stream",
     "text": [
      "100%|#########################################################################|\n"
     ]
    },
    {
     "name": "stdout",
     "output_type": "stream",
     "text": [
      "i =  736\n",
      "evaluating roc \n",
      "\n"
     ]
    },
    {
     "name": "stderr",
     "output_type": "stream",
     "text": [
      "  0%|                                                                         |\r"
     ]
    },
    {
     "name": "stdout",
     "output_type": "stream",
     "text": [
      "epoch =  3  losses =  {'textcat': 24.50453746617768} roc =  0.8918084969836992 i =  736\n",
      "shuffling data...\n",
      "creating batches...\n",
      "training...\n"
     ]
    },
    {
     "name": "stderr",
     "output_type": "stream",
     "text": [
      "100%|#########################################################################|\n"
     ]
    },
    {
     "name": "stdout",
     "output_type": "stream",
     "text": [
      "i =  736\n",
      "evaluating roc \n",
      "\n"
     ]
    },
    {
     "name": "stderr",
     "output_type": "stream",
     "text": [
      "  0%|                                                                         |\r"
     ]
    },
    {
     "name": "stdout",
     "output_type": "stream",
     "text": [
      "epoch =  4  losses =  {'textcat': 27.917881497464492} roc =  0.8867873187010653 i =  736\n",
      "shuffling data...\n",
      "creating batches...\n",
      "training...\n"
     ]
    },
    {
     "name": "stderr",
     "output_type": "stream",
     "text": [
      "100%|#########################################################################|\n"
     ]
    },
    {
     "name": "stdout",
     "output_type": "stream",
     "text": [
      "i =  736\n",
      "evaluating roc \n",
      "\n"
     ]
    },
    {
     "name": "stderr",
     "output_type": "stream",
     "text": [
      "  0%|                                                                         |\r"
     ]
    },
    {
     "name": "stdout",
     "output_type": "stream",
     "text": [
      "epoch =  5  losses =  {'textcat': 30.478690824294183} roc =  0.8855294570658452 i =  736\n",
      "shuffling data...\n",
      "creating batches...\n",
      "training...\n"
     ]
    },
    {
     "name": "stderr",
     "output_type": "stream",
     "text": [
      "100%|#########################################################################|\n"
     ]
    },
    {
     "name": "stdout",
     "output_type": "stream",
     "text": [
      "i =  736\n",
      "evaluating roc \n",
      "\n"
     ]
    },
    {
     "name": "stderr",
     "output_type": "stream",
     "text": [
      "  0%|                                                                         |\r"
     ]
    },
    {
     "name": "stdout",
     "output_type": "stream",
     "text": [
      "epoch =  6  losses =  {'textcat': 33.177135079762934} roc =  0.8818123475805415 i =  736\n",
      "shuffling data...\n",
      "creating batches...\n",
      "training...\n"
     ]
    },
    {
     "name": "stderr",
     "output_type": "stream",
     "text": [
      "100%|#########################################################################|\n"
     ]
    },
    {
     "name": "stdout",
     "output_type": "stream",
     "text": [
      "i =  736\n",
      "evaluating roc \n",
      "\n"
     ]
    },
    {
     "name": "stderr",
     "output_type": "stream",
     "text": [
      "  0%|                                                                         |\r"
     ]
    },
    {
     "name": "stdout",
     "output_type": "stream",
     "text": [
      "epoch =  7  losses =  {'textcat': 35.532278382530016} roc =  0.8763855730971634 i =  736\n",
      "shuffling data...\n",
      "creating batches...\n",
      "training...\n"
     ]
    },
    {
     "name": "stderr",
     "output_type": "stream",
     "text": [
      "100%|#########################################################################|\n"
     ]
    },
    {
     "name": "stdout",
     "output_type": "stream",
     "text": [
      "i =  736\n",
      "evaluating roc \n",
      "\n"
     ]
    },
    {
     "name": "stderr",
     "output_type": "stream",
     "text": [
      "  0%|                                                                         |\r"
     ]
    },
    {
     "name": "stdout",
     "output_type": "stream",
     "text": [
      "epoch =  8  losses =  {'textcat': 37.83402553677294} roc =  0.8751841868823 i =  736\n",
      "shuffling data...\n",
      "creating batches...\n",
      "training...\n"
     ]
    },
    {
     "name": "stderr",
     "output_type": "stream",
     "text": [
      "100%|#########################################################################|\n"
     ]
    },
    {
     "name": "stdout",
     "output_type": "stream",
     "text": [
      "i =  736\n",
      "evaluating roc \n",
      "\n"
     ]
    },
    {
     "name": "stderr",
     "output_type": "stream",
     "text": [
      "  0%|                                                                         |\r"
     ]
    },
    {
     "name": "stdout",
     "output_type": "stream",
     "text": [
      "epoch =  9  losses =  {'textcat': 39.859853323127446} roc =  0.8729611089718906 i =  736\n",
      "shuffling data...\n",
      "creating batches...\n",
      "training...\n"
     ]
    },
    {
     "name": "stderr",
     "output_type": "stream",
     "text": [
      "100%|#########################################################################|\n"
     ]
    },
    {
     "name": "stdout",
     "output_type": "stream",
     "text": [
      "i =  736\n",
      "evaluating roc \n",
      "\n"
     ]
    },
    {
     "name": "stderr",
     "output_type": "stream",
     "text": [
      "  0%|                                                                         |\r"
     ]
    },
    {
     "name": "stdout",
     "output_type": "stream",
     "text": [
      "epoch =  10  losses =  {'textcat': 41.88246862717979} roc =  0.8675908099088693 i =  736\n",
      "shuffling data...\n",
      "creating batches...\n",
      "training...\n"
     ]
    },
    {
     "name": "stderr",
     "output_type": "stream",
     "text": [
      "100%|#########################################################################|\n"
     ]
    },
    {
     "name": "stdout",
     "output_type": "stream",
     "text": [
      "i =  736\n",
      "evaluating roc \n",
      "\n"
     ]
    },
    {
     "name": "stderr",
     "output_type": "stream",
     "text": [
      "  0%|                                                                         |\r"
     ]
    },
    {
     "name": "stdout",
     "output_type": "stream",
     "text": [
      "epoch =  11  losses =  {'textcat': 43.92857742387356} roc =  0.8667077396996534 i =  736\n",
      "shuffling data...\n",
      "creating batches...\n",
      "training...\n"
     ]
    },
    {
     "name": "stderr",
     "output_type": "stream",
     "text": [
      "100%|#########################################################################|\n"
     ]
    },
    {
     "name": "stdout",
     "output_type": "stream",
     "text": [
      "i =  736\n",
      "evaluating roc \n",
      "\n"
     ]
    },
    {
     "name": "stderr",
     "output_type": "stream",
     "text": [
      "  0%|                                                                         |\r"
     ]
    },
    {
     "name": "stdout",
     "output_type": "stream",
     "text": [
      "epoch =  12  losses =  {'textcat': 46.01102748613428} roc =  0.8698549608522654 i =  736\n",
      "shuffling data...\n",
      "creating batches...\n",
      "training...\n"
     ]
    },
    {
     "name": "stderr",
     "output_type": "stream",
     "text": [
      "100%|#########################################################################|\n"
     ]
    },
    {
     "name": "stdout",
     "output_type": "stream",
     "text": [
      "i =  736\n",
      "evaluating roc \n",
      "\n"
     ]
    },
    {
     "name": "stderr",
     "output_type": "stream",
     "text": [
      "  0%|                                                                         |\r"
     ]
    },
    {
     "name": "stdout",
     "output_type": "stream",
     "text": [
      "epoch =  13  losses =  {'textcat': 47.972736447593924} roc =  0.8682633808240278 i =  736\n",
      "shuffling data...\n",
      "creating batches...\n",
      "training...\n"
     ]
    },
    {
     "name": "stderr",
     "output_type": "stream",
     "text": [
      "100%|#########################################################################|\n"
     ]
    },
    {
     "name": "stdout",
     "output_type": "stream",
     "text": [
      "i =  736\n",
      "evaluating roc \n",
      "\n",
      "epoch =  14  losses =  {'textcat': 49.88400436997952} roc =  0.8702810935695032 i =  736\n",
      "Wall time: 34min 13s\n"
     ]
    }
   ],
   "source": [
    "%%time\n",
    "# set required seeds\n",
    "random.seed(1)\n",
    "spacy.util.fix_random_seed(1)\n",
    "\n",
    "\n",
    "\n",
    "# may have to uncomemnt this to avoi warnings\n",
    "#nlp.vocab.vectors.name = 'spacy_pretrained_vectors'\n",
    "\n",
    "print(\"random seeds set\")\n",
    "\n",
    "losses = {}\n",
    "rocs = []\n",
    "\n",
    "print(\"strings and lists initialized\")\n",
    "\n",
    "\n",
    "#learning process\n",
    "pipe_exceptions = ['textcat'] \n",
    "print(\"pipe_exceptions defined\")\n",
    "other_pipes = [pipe for pipe in nlp.pipe_names if pipe not in pipe_exceptions]\n",
    "print(\"other_pipes defined\")\n",
    "with nlp.disable_pipes(*other_pipes):  # only train textcat\n",
    "    optimizer = nlp.begin_training() # returns an optimizer. I tred to tune it but the default one seems to be the best\n",
    "    for epoch in range(15): # every epoch, all train data are used\n",
    "        print(\"shuffling data...\")\n",
    "        random.shuffle(train_data) # shuffle the data\n",
    "        print(\"creating batches...\")\n",
    "        batches = minibatch(train_data, size=compounding(4., 32., 1.001)) # size of n_th batch is 4*(1.001)^n, up to a maximum of 32\n",
    "        # Iterate through minibatches\n",
    "        pbar = ProgressBar(widgets=[Percentage(), Bar()], maxval=737).start() \n",
    "        i = 0\n",
    "        print(\"training...\")\n",
    "        for batch in batches:\n",
    "            # Each batch is a list of (text, label) but we need to\n",
    "            # send separate lists for texts and labels to update().\n",
    "            # This is a quick way to split a list of tuples into lists\n",
    "            texts1, labels = zip(*batch)\n",
    "            nlp.update(texts1, labels, sgd=optimizer, losses=losses, drop = 0.1) # set some drop to avoid overfitting during the first epochs. \n",
    "            i += 1\n",
    "            pbar.update(i)\n",
    "        pbar.finish()\n",
    "        print(\"i = \",  i) # evaluate roc with parameters averaged over epocha\n",
    "        with textcat.model.use_params(optimizer.averages):\n",
    "            rocs.append(evaluate_roc(nlp, textcat))\n",
    "            print( \"epoch = \",epoch,\" losses = \", losses, \"roc = \" , rocs[-1] , \"i = \", i)"
   ]
  },
  {
   "cell_type": "code",
   "execution_count": 62,
   "metadata": {},
   "outputs": [],
   "source": [
    "docs = [nlp.tokenizer(tex) for tex in test_texts]\n",
    "scores , a = textcat.predict(docs)\n",
    "y_pred = [b[0] for b in scores] \n",
    "roc = roc_auc_score(test_labels, y_pred)\n",
    "\n",
    "df_res = pd.DataFrame({\"author\": test_df[\"author\"].tolist(), \"gender\" : y_pred, \"true_y\" : test_labels  })\n",
    "df_res.to_csv (r'subs_ensemble_e15.csv', index = False, header=True)"
   ]
  },
  {
   "cell_type": "code",
   "execution_count": 63,
   "metadata": {},
   "outputs": [
    {
     "data": {
      "image/png": "[encoded data removed]",
      "text/plain": [
       "<Figure size 432x288 with 1 Axes>"
      ]
     },
     "metadata": {
      "needs_background": "light"
     },
     "output_type": "display_data"
    }
   ],
   "source": [
    "plt.hist(y_pred, bins=\"auto\")\n",
    "plt.show()"
   ]
  },
  {
   "cell_type": "markdown",
   "metadata": {},
   "source": [
    "### Now let's train the model on all train data and predict the test"
   ]
  },
  {
   "cell_type": "markdown",
   "metadata": {},
   "source": [
    "#### Ensemble"
   ]
  },
  {
   "cell_type": "code",
   "execution_count": 13,
   "metadata": {},
   "outputs": [
    {
     "name": "stdout",
     "output_type": "stream",
     "text": [
      "len(train_data) =  5000\n"
     ]
    }
   ],
   "source": [
    "# prepare all data\n",
    "train_texts  = author_subrdts[\"subreddit\"].tolist()\n",
    "train_labels = [{'cats': {'1': label == 1,'0': label == 0}} for label in author_subrdts[\"gender\"].tolist()]\n",
    "train_data  = list(zip(train_texts, train_labels))\n",
    "print(\"len(train_data) = \", len(train_data))"
   ]
  },
  {
   "cell_type": "code",
   "execution_count": 44,
   "metadata": {},
   "outputs": [
    {
     "data": {
      "text/plain": [
       "1"
      ]
     },
     "execution_count": 44,
     "metadata": {},
     "output_type": "execute_result"
    }
   ],
   "source": [
    "# create new model\n",
    "# load a learner that speaks english\n",
    "nlp = spacy.blank(\"en\")\n",
    "\n",
    "# Create the TextCategorizer with exclusive classes and \"bow\" (bag of words) architecture. The TextCategorizer is the element of the nlp pipe we will be training.\n",
    "\n",
    "# link to model architecture description (from spacy documentation): https://spacy.io/api/textcategorizer#architectures\n",
    "if 'textcat' not in nlp.pipe_names:\n",
    "    textcat = nlp.create_pipe(\n",
    "                  \"textcat\", #textcat\n",
    "                  config={\"exclusive_classes\": True, \"architecture\": \"ensemble\"  })\n",
    "    nlp.add_pipe(textcat)\n",
    "else:\n",
    "    textcat = nlp.get_pipe('textcat')\n",
    "\n",
    "# add labels \n",
    "textcat.add_label(\"1\")\n",
    "textcat.add_label(\"0\")"
   ]
  },
  {
   "cell_type": "code",
   "execution_count": 35,
   "metadata": {},
   "outputs": [
    {
     "name": "stderr",
     "output_type": "stream",
     "text": [
      "  0%|                                                                         |\r"
     ]
    },
    {
     "name": "stdout",
     "output_type": "stream",
     "text": [
      "random seeds set\n",
      "strings and lists initialized\n",
      "pipe_exceptions defined\n",
      "other_pipes defined\n",
      "shuffling data...\n",
      "creating batches...\n",
      "training...\n"
     ]
    },
    {
     "name": "stderr",
     "output_type": "stream",
     "text": [
      "100%|#########################################################################|\n",
      "  0%|                                                                         |\r"
     ]
    },
    {
     "name": "stdout",
     "output_type": "stream",
     "text": [
      "i =  856\n",
      "shuffling data...\n",
      "creating batches...\n",
      "training...\n"
     ]
    },
    {
     "name": "stderr",
     "output_type": "stream",
     "text": [
      "100%|#########################################################################|\n",
      "  0%|                                                                         |\r"
     ]
    },
    {
     "name": "stdout",
     "output_type": "stream",
     "text": [
      "i =  856\n",
      "shuffling data...\n",
      "creating batches...\n",
      "training...\n"
     ]
    },
    {
     "name": "stderr",
     "output_type": "stream",
     "text": [
      "100%|#########################################################################|\n",
      "  0%|                                                                         |\r"
     ]
    },
    {
     "name": "stdout",
     "output_type": "stream",
     "text": [
      "i =  856\n",
      "shuffling data...\n",
      "creating batches...\n",
      "training...\n"
     ]
    },
    {
     "name": "stderr",
     "output_type": "stream",
     "text": [
      "100%|#########################################################################|\n",
      "  0%|                                                                         |\r"
     ]
    },
    {
     "name": "stdout",
     "output_type": "stream",
     "text": [
      "i =  856\n",
      "shuffling data...\n",
      "creating batches...\n",
      "training...\n"
     ]
    },
    {
     "name": "stderr",
     "output_type": "stream",
     "text": [
      "100%|#########################################################################|\n",
      "  0%|                                                                         |\r"
     ]
    },
    {
     "name": "stdout",
     "output_type": "stream",
     "text": [
      "i =  856\n",
      "shuffling data...\n",
      "creating batches...\n",
      "training...\n"
     ]
    },
    {
     "name": "stderr",
     "output_type": "stream",
     "text": [
      "100%|#########################################################################|\n",
      "  0%|                                                                         |\r"
     ]
    },
    {
     "name": "stdout",
     "output_type": "stream",
     "text": [
      "i =  856\n",
      "shuffling data...\n",
      "creating batches...\n",
      "training...\n"
     ]
    },
    {
     "name": "stderr",
     "output_type": "stream",
     "text": [
      "100%|#########################################################################|\n",
      "  0%|                                                                         |\r"
     ]
    },
    {
     "name": "stdout",
     "output_type": "stream",
     "text": [
      "i =  856\n",
      "shuffling data...\n",
      "creating batches...\n",
      "training...\n"
     ]
    },
    {
     "name": "stderr",
     "output_type": "stream",
     "text": [
      "100%|#########################################################################|\n",
      "  0%|                                                                         |\r"
     ]
    },
    {
     "name": "stdout",
     "output_type": "stream",
     "text": [
      "i =  856\n",
      "shuffling data...\n",
      "creating batches...\n",
      "training...\n"
     ]
    },
    {
     "name": "stderr",
     "output_type": "stream",
     "text": [
      "100%|#########################################################################|\n",
      "  0%|                                                                         |\r"
     ]
    },
    {
     "name": "stdout",
     "output_type": "stream",
     "text": [
      "i =  856\n",
      "shuffling data...\n",
      "creating batches...\n",
      "training...\n"
     ]
    },
    {
     "name": "stderr",
     "output_type": "stream",
     "text": [
      "100%|#########################################################################|\n",
      "  0%|                                                                         |\r"
     ]
    },
    {
     "name": "stdout",
     "output_type": "stream",
     "text": [
      "i =  856\n",
      "shuffling data...\n",
      "creating batches...\n",
      "training...\n"
     ]
    },
    {
     "name": "stderr",
     "output_type": "stream",
     "text": [
      "100%|#########################################################################|\n",
      "  0%|                                                                         |\r"
     ]
    },
    {
     "name": "stdout",
     "output_type": "stream",
     "text": [
      "i =  856\n",
      "shuffling data...\n",
      "creating batches...\n",
      "training...\n"
     ]
    },
    {
     "name": "stderr",
     "output_type": "stream",
     "text": [
      "100%|#########################################################################|\n",
      "  0%|                                                                         |\r"
     ]
    },
    {
     "name": "stdout",
     "output_type": "stream",
     "text": [
      "i =  856\n",
      "shuffling data...\n",
      "creating batches...\n",
      "training...\n"
     ]
    },
    {
     "name": "stderr",
     "output_type": "stream",
     "text": [
      "100%|#########################################################################|\n",
      "  0%|                                                                         |\r"
     ]
    },
    {
     "name": "stdout",
     "output_type": "stream",
     "text": [
      "i =  856\n",
      "shuffling data...\n",
      "creating batches...\n",
      "training...\n"
     ]
    },
    {
     "name": "stderr",
     "output_type": "stream",
     "text": [
      "100%|#########################################################################|\n",
      "  0%|                                                                         |\r"
     ]
    },
    {
     "name": "stdout",
     "output_type": "stream",
     "text": [
      "i =  856\n",
      "shuffling data...\n",
      "creating batches...\n",
      "training...\n"
     ]
    },
    {
     "name": "stderr",
     "output_type": "stream",
     "text": [
      "100%|#########################################################################|\r"
     ]
    },
    {
     "name": "stdout",
     "output_type": "stream",
     "text": [
      "i =  856\n",
      "Wall time: 30min 33s\n"
     ]
    },
    {
     "name": "stderr",
     "output_type": "stream",
     "text": [
      "\n"
     ]
    }
   ],
   "source": [
    "%%time\n",
    "# set required seeds\n",
    "random.seed(1)\n",
    "spacy.util.fix_random_seed(1)\n",
    "\n",
    "\n",
    "\n",
    "# may have to uncomemnt this to avoi warnings\n",
    "#nlp.vocab.vectors.name = 'spacy_pretrained_vectors'\n",
    "\n",
    "print(\"random seeds set\")\n",
    "\n",
    "losses = {}\n",
    "rocs = []\n",
    "\n",
    "print(\"strings and lists initialized\")\n",
    "\n",
    "\n",
    "#learning process\n",
    "pipe_exceptions = ['textcat'] \n",
    "print(\"pipe_exceptions defined\")\n",
    "other_pipes = [pipe for pipe in nlp.pipe_names if pipe not in pipe_exceptions]\n",
    "print(\"other_pipes defined\")\n",
    "with nlp.disable_pipes(*other_pipes):  # only train textcat\n",
    "    optimizer = nlp.begin_training() # returns an optimizer. I tred to tune it but the default one seems to be the best\n",
    "    for epoch in range(15): # every epoch, all train data are used\n",
    "        print(\"shuffling data...\")\n",
    "        random.shuffle(train_data) # shuffle the data\n",
    "        print(\"creating batches...\")\n",
    "        batches = minibatch(train_data, size=compounding(4, 32, 1.001)) # size of n_th batch is 4*(1.001)^n, up to a maximum of 32\n",
    "        # Iterate through minibatches\n",
    "        pbar = ProgressBar(widgets=[Percentage(), Bar()], maxval=857).start() \n",
    "        i = 0\n",
    "        print(\"training...\")\n",
    "        for batch in batches:\n",
    "            # Each batch is a list of (text, label) but we need to\n",
    "            # send separate lists for texts and labels to update().\n",
    "            # This is a quick way to split a list of tuples into lists\n",
    "            texts1, labels = zip(*batch)\n",
    "            nlp.update(texts1, labels, sgd=optimizer, losses=losses, drop = 0.1) # set some drop to avoid overfitting during the first epochs. \n",
    "            i += 1\n",
    "            pbar.update(i)\n",
    "        pbar.finish()\n",
    "        print(\"i = \", i)"
   ]
  },
  {
   "cell_type": "code",
   "execution_count": 36,
   "metadata": {},
   "outputs": [
    {
     "name": "stderr",
     "output_type": "stream",
     "text": [
      " 17%|############                                                             |\r"
     ]
    },
    {
     "name": "stdout",
     "output_type": "stream",
     "text": [
      "obtained textcat\n"
     ]
    },
    {
     "name": "stderr",
     "output_type": "stream",
     "text": [
      "100%|#########################################################################|\n"
     ]
    },
    {
     "name": "stdout",
     "output_type": "stream",
     "text": [
      "docs done\n",
      "prediction done\n",
      "           author    gender\n",
      "0    --redbeard--  0.000604\n",
      "1       -Allaina-  0.999867\n",
      "2  -AllonsyAlonso  0.002187\n",
      "3          -Beth-  0.216146\n",
      "4        -Greeny-  0.000966\n",
      "done\n"
     ]
    }
   ],
   "source": [
    "textcat = nlp.get_pipe(\"textcat\")\n",
    "print(\"obtained textcat\")\n",
    "# tokenize the texts to pass to the textcat\n",
    "# this line may take a while.\n",
    "docs = [] #nlp.tokenizer(str(tex)) for tex in l\n",
    "texts = test_data[\"subreddit\"].tolist()\n",
    "pbar = ProgressBar(widgets=[Percentage(), Bar()], maxval=len(texts)).start()\n",
    "i = 0\n",
    "for tex in texts:\n",
    "    docs.append(nlp.tokenizer(tex))\n",
    "    i += 1\n",
    "    pbar.update(i)\n",
    "pbar.finish()\n",
    "print(\"docs done\")\n",
    "# for each text (sequnece of subreddits separated by a space) the textcat predicts a list [a,b] where a is the probability that the author is a woman, while b is the probablility that the author is a man.\n",
    "# this line may take a while\n",
    "scores, a = textcat.predict(docs)\n",
    "print(\"prediction done\")\n",
    "# so the predictions are the first elements of all lists in scores\n",
    "pred_y = [s[0] for s in scores]\n",
    "# create dataframe for submission\n",
    "subs_test_predictions = pd.DataFrame({\"author\": test_data[\"author\"].tolist(), \"gender\": pred_y})\n",
    "print(subs_test_predictions.head(5))\n",
    "subs_test_predictions.to_csv(r\"subs_test_predictions_ensemble.csv\" , index = False)\n",
    "print(\"done\")"
   ]
  },
  {
   "cell_type": "code",
   "execution_count": 37,
   "metadata": {},
   "outputs": [
    {
     "data": {
      "image/png": "[encoded data removed]",
      "text/plain": [
       "<Figure size 432x288 with 1 Axes>"
      ]
     },
     "metadata": {
      "needs_background": "light"
     },
     "output_type": "display_data"
    }
   ],
   "source": [
    "import matplotlib.pyplot as plt\n",
    "plt.hist(pred_y, bins=\"auto\")\n",
    "plt.show()"
   ]
  },
  {
   "cell_type": "markdown",
   "metadata": {},
   "source": [
    "#### simple_cnn"
   ]
  },
  {
   "cell_type": "code",
   "execution_count": 40,
   "metadata": {},
   "outputs": [
    {
     "data": {
      "text/plain": [
       "1"
      ]
     },
     "execution_count": 40,
     "metadata": {},
     "output_type": "execute_result"
    }
   ],
   "source": [
    "# create new model\n",
    "# load a learner that speaks english\n",
    "nlp = spacy.blank(\"en\")\n",
    "\n",
    "# Create the TextCategorizer with exclusive classes and \"bow\" (bag of words) architecture. The TextCategorizer is the element of the nlp pipe we will be training.\n",
    "\n",
    "# link to model architecture description (from spacy documentation): https://spacy.io/api/textcategorizer#architectures\n",
    "if 'textcat' not in nlp.pipe_names:\n",
    "    textcat = nlp.create_pipe(\n",
    "                  \"textcat\", #textcat\n",
    "                  config={\"exclusive_classes\": True, \"architecture\": \"simple_cnn\"  })\n",
    "    nlp.add_pipe(textcat)\n",
    "else:\n",
    "    textcat = nlp.get_pipe('textcat')\n",
    "\n",
    "# add labels \n",
    "textcat.add_label(\"1\")\n",
    "textcat.add_label(\"0\")"
   ]
  },
  {
   "cell_type": "code",
   "execution_count": 41,
   "metadata": {},
   "outputs": [
    {
     "name": "stderr",
     "output_type": "stream",
     "text": [
      "  0%|                                                                         |\r"
     ]
    },
    {
     "name": "stdout",
     "output_type": "stream",
     "text": [
      "random seeds set\n",
      "strings and lists initialized\n",
      "pipe_exceptions defined\n",
      "other_pipes defined\n",
      "shuffling data...\n",
      "creating batches...\n",
      "training...\n"
     ]
    },
    {
     "name": "stderr",
     "output_type": "stream",
     "text": [
      "100%|#########################################################################|\n",
      "  0%|                                                                         |\r"
     ]
    },
    {
     "name": "stdout",
     "output_type": "stream",
     "text": [
      "i =  856\n",
      "shuffling data...\n",
      "creating batches...\n",
      "training...\n"
     ]
    },
    {
     "name": "stderr",
     "output_type": "stream",
     "text": [
      "100%|#########################################################################|\n",
      "  0%|                                                                         |\r"
     ]
    },
    {
     "name": "stdout",
     "output_type": "stream",
     "text": [
      "i =  856\n",
      "shuffling data...\n",
      "creating batches...\n",
      "training...\n"
     ]
    },
    {
     "name": "stderr",
     "output_type": "stream",
     "text": [
      "100%|#########################################################################|\n",
      "  0%|                                                                         |\r"
     ]
    },
    {
     "name": "stdout",
     "output_type": "stream",
     "text": [
      "i =  856\n",
      "shuffling data...\n",
      "creating batches...\n",
      "training...\n"
     ]
    },
    {
     "name": "stderr",
     "output_type": "stream",
     "text": [
      "100%|#########################################################################|\n",
      "  0%|                                                                         |\r"
     ]
    },
    {
     "name": "stdout",
     "output_type": "stream",
     "text": [
      "i =  856\n",
      "shuffling data...\n",
      "creating batches...\n",
      "training...\n"
     ]
    },
    {
     "name": "stderr",
     "output_type": "stream",
     "text": [
      "100%|#########################################################################|\n",
      "  0%|                                                                         |\r"
     ]
    },
    {
     "name": "stdout",
     "output_type": "stream",
     "text": [
      "i =  856\n",
      "shuffling data...\n",
      "creating batches...\n",
      "training...\n"
     ]
    },
    {
     "name": "stderr",
     "output_type": "stream",
     "text": [
      "100%|#########################################################################|\n",
      "  0%|                                                                         |\r"
     ]
    },
    {
     "name": "stdout",
     "output_type": "stream",
     "text": [
      "i =  856\n",
      "shuffling data...\n",
      "creating batches...\n",
      "training...\n"
     ]
    },
    {
     "name": "stderr",
     "output_type": "stream",
     "text": [
      "100%|#########################################################################|\n",
      "  0%|                                                                         |\r"
     ]
    },
    {
     "name": "stdout",
     "output_type": "stream",
     "text": [
      "i =  856\n",
      "shuffling data...\n",
      "creating batches...\n",
      "training...\n"
     ]
    },
    {
     "name": "stderr",
     "output_type": "stream",
     "text": [
      "100%|#########################################################################|\n",
      "  0%|                                                                         |\r"
     ]
    },
    {
     "name": "stdout",
     "output_type": "stream",
     "text": [
      "i =  856\n",
      "shuffling data...\n",
      "creating batches...\n",
      "training...\n"
     ]
    },
    {
     "name": "stderr",
     "output_type": "stream",
     "text": [
      "100%|#########################################################################|\n",
      "  0%|                                                                         |\r"
     ]
    },
    {
     "name": "stdout",
     "output_type": "stream",
     "text": [
      "i =  856\n",
      "shuffling data...\n",
      "creating batches...\n",
      "training...\n"
     ]
    },
    {
     "name": "stderr",
     "output_type": "stream",
     "text": [
      "100%|#########################################################################|\n",
      "  0%|                                                                         |\r"
     ]
    },
    {
     "name": "stdout",
     "output_type": "stream",
     "text": [
      "i =  856\n",
      "shuffling data...\n",
      "creating batches...\n",
      "training...\n"
     ]
    },
    {
     "name": "stderr",
     "output_type": "stream",
     "text": [
      "100%|#########################################################################|\n",
      "  0%|                                                                         |\r"
     ]
    },
    {
     "name": "stdout",
     "output_type": "stream",
     "text": [
      "i =  856\n",
      "shuffling data...\n",
      "creating batches...\n",
      "training...\n"
     ]
    },
    {
     "name": "stderr",
     "output_type": "stream",
     "text": [
      "100%|#########################################################################|\n",
      "  0%|                                                                         |\r"
     ]
    },
    {
     "name": "stdout",
     "output_type": "stream",
     "text": [
      "i =  856\n",
      "shuffling data...\n",
      "creating batches...\n",
      "training...\n"
     ]
    },
    {
     "name": "stderr",
     "output_type": "stream",
     "text": [
      "100%|#########################################################################|\n",
      "  0%|                                                                         |\r"
     ]
    },
    {
     "name": "stdout",
     "output_type": "stream",
     "text": [
      "i =  856\n",
      "shuffling data...\n",
      "creating batches...\n",
      "training...\n"
     ]
    },
    {
     "name": "stderr",
     "output_type": "stream",
     "text": [
      "100%|#########################################################################|\n",
      "  0%|                                                                         |\r"
     ]
    },
    {
     "name": "stdout",
     "output_type": "stream",
     "text": [
      "i =  856\n",
      "shuffling data...\n",
      "creating batches...\n",
      "training...\n"
     ]
    },
    {
     "name": "stderr",
     "output_type": "stream",
     "text": [
      "100%|#########################################################################|\r"
     ]
    },
    {
     "name": "stdout",
     "output_type": "stream",
     "text": [
      "i =  856\n",
      "Wall time: 17min 26s\n"
     ]
    },
    {
     "name": "stderr",
     "output_type": "stream",
     "text": [
      "\n"
     ]
    }
   ],
   "source": [
    "%%time\n",
    "# set required seeds\n",
    "random.seed(1)\n",
    "spacy.util.fix_random_seed(1)\n",
    "\n",
    "\n",
    "\n",
    "# may have to uncomemnt this to avoi warnings\n",
    "#nlp.vocab.vectors.name = 'spacy_pretrained_vectors'\n",
    "\n",
    "print(\"random seeds set\")\n",
    "\n",
    "losses = {}\n",
    "rocs = []\n",
    "\n",
    "print(\"strings and lists initialized\")\n",
    "\n",
    "\n",
    "#learning process\n",
    "pipe_exceptions = ['textcat'] \n",
    "print(\"pipe_exceptions defined\")\n",
    "other_pipes = [pipe for pipe in nlp.pipe_names if pipe not in pipe_exceptions]\n",
    "print(\"other_pipes defined\")\n",
    "with nlp.disable_pipes(*other_pipes):  # only train textcat\n",
    "    optimizer = nlp.begin_training() # returns an optimizer. I tred to tune it but the default one seems to be the best\n",
    "    for epoch in range(15): # every epoch, all train data are used\n",
    "        print(\"shuffling data...\")\n",
    "        random.shuffle(train_data) # shuffle the data\n",
    "        print(\"creating batches...\")\n",
    "        batches = minibatch(train_data, size=compounding(4, 32, 1.001)) # size of n_th batch is 4*(1.001)^n, up to a maximum of 32\n",
    "        # Iterate through minibatches\n",
    "        pbar = ProgressBar(widgets=[Percentage(), Bar()], maxval=857).start() \n",
    "        i = 0\n",
    "        print(\"training...\")\n",
    "        for batch in batches:\n",
    "            # Each batch is a list of (text, label) but we need to\n",
    "            # send separate lists for texts and labels to update().\n",
    "            # This is a quick way to split a list of tuples into lists\n",
    "            texts1, labels = zip(*batch)\n",
    "            nlp.update(texts1, labels, sgd=optimizer, losses=losses, drop = 0.1) # set some drop to avoid overfitting during the first epochs. \n",
    "            i += 1\n",
    "            pbar.update(i)\n",
    "        pbar.finish()\n",
    "        print(\"i = \", i)"
   ]
  },
  {
   "cell_type": "code",
   "execution_count": 42,
   "metadata": {},
   "outputs": [
    {
     "name": "stderr",
     "output_type": "stream",
     "text": [
      " 15%|##########                                                               |\r"
     ]
    },
    {
     "name": "stdout",
     "output_type": "stream",
     "text": [
      "obtained textcat\n"
     ]
    },
    {
     "name": "stderr",
     "output_type": "stream",
     "text": [
      "100%|#########################################################################|\n"
     ]
    },
    {
     "name": "stdout",
     "output_type": "stream",
     "text": [
      "docs done\n",
      "prediction done\n",
      "           author        gender\n",
      "0    --redbeard--  3.247646e-08\n",
      "1       -Allaina-  9.972798e-01\n",
      "2  -AllonsyAlonso  1.231719e-02\n",
      "3          -Beth-  1.814199e-01\n",
      "4        -Greeny-  4.576904e-06\n",
      "done\n"
     ]
    }
   ],
   "source": [
    "textcat = nlp.get_pipe(\"textcat\")\n",
    "print(\"obtained textcat\")\n",
    "# tokenize the texts to pass to the textcat\n",
    "# this line may take a while.\n",
    "docs = [] #nlp.tokenizer(str(tex)) for tex in l\n",
    "texts = test_data[\"subreddit\"].tolist()\n",
    "pbar = ProgressBar(widgets=[Percentage(), Bar()], maxval=len(texts)).start()\n",
    "i = 0\n",
    "for tex in texts:\n",
    "    docs.append(nlp.tokenizer(tex))\n",
    "    i += 1\n",
    "    pbar.update(i)\n",
    "pbar.finish()\n",
    "print(\"docs done\")\n",
    "# for each text (sequnece of subreddits separated by a space) the textcat predicts a list [a,b] where a is the probability that the author is a woman, while b is the probablility that the author is a man.\n",
    "# this line may take a while\n",
    "scores, a = textcat.predict(docs)\n",
    "print(\"prediction done\")\n",
    "# so the predictions are the first elements of all lists in scores\n",
    "pred_y = [s[0] for s in scores]\n",
    "# create dataframe for submission\n",
    "subs_test_predictions = pd.DataFrame({\"author\": test_data[\"author\"].tolist(), \"gender\": pred_y})\n",
    "print(subs_test_predictions.head(5))\n",
    "subs_test_predictions.to_csv(r\"subs_test_predictions_cnn.csv\" , index = False)\n",
    "print(\"done\")"
   ]
  },
  {
   "cell_type": "code",
   "execution_count": 43,
   "metadata": {},
   "outputs": [
    {
     "data": {
      "image/png": "[encoded data removed]",
      "text/plain": [
       "<Figure size 432x288 with 1 Axes>"
      ]
     },
     "metadata": {
      "needs_background": "light"
     },
     "output_type": "display_data"
    }
   ],
   "source": [
    "import matplotlib.pyplot as plt\n",
    "plt.hist(pred_y, bins=\"auto\")\n",
    "plt.show()"
   ]
  },
  {
   "cell_type": "markdown",
   "metadata": {},
   "source": [
    "#### bow"
   ]
  },
  {
   "cell_type": "code",
   "execution_count": 45,
   "metadata": {},
   "outputs": [
    {
     "data": {
      "text/plain": [
       "1"
      ]
     },
     "execution_count": 45,
     "metadata": {},
     "output_type": "execute_result"
    }
   ],
   "source": [
    "# create new model\n",
    "# load a learner that speaks english\n",
    "nlp = spacy.blank(\"en\")\n",
    "\n",
    "# Create the TextCategorizer with exclusive classes and \"bow\" (bag of words) architecture. The TextCategorizer is the element of the nlp pipe we will be training.\n",
    "\n",
    "# link to model architecture description (from spacy documentation): https://spacy.io/api/textcategorizer#architectures\n",
    "if 'textcat' not in nlp.pipe_names:\n",
    "    textcat = nlp.create_pipe(\n",
    "                  \"textcat\", #textcat\n",
    "                  config={\"exclusive_classes\": True, \"architecture\": \"bow\"  })\n",
    "    nlp.add_pipe(textcat)\n",
    "else:\n",
    "    textcat = nlp.get_pipe('textcat')\n",
    "\n",
    "# add labels \n",
    "textcat.add_label(\"1\")\n",
    "textcat.add_label(\"0\")"
   ]
  },
  {
   "cell_type": "code",
   "execution_count": 46,
   "metadata": {},
   "outputs": [
    {
     "name": "stderr",
     "output_type": "stream",
     "text": [
      "  0%|                                                                         |\r"
     ]
    },
    {
     "name": "stdout",
     "output_type": "stream",
     "text": [
      "random seeds set\n",
      "strings and lists initialized\n",
      "pipe_exceptions defined\n",
      "other_pipes defined\n",
      "shuffling data...\n",
      "creating batches...\n",
      "training...\n"
     ]
    },
    {
     "name": "stderr",
     "output_type": "stream",
     "text": [
      "100%|#########################################################################|\n",
      "  0%|                                                                         |\r"
     ]
    },
    {
     "name": "stdout",
     "output_type": "stream",
     "text": [
      "i =  856\n",
      "shuffling data...\n",
      "creating batches...\n",
      "training...\n"
     ]
    },
    {
     "name": "stderr",
     "output_type": "stream",
     "text": [
      "100%|#########################################################################|\n",
      "  0%|                                                                         |\r"
     ]
    },
    {
     "name": "stdout",
     "output_type": "stream",
     "text": [
      "i =  856\n",
      "shuffling data...\n",
      "creating batches...\n",
      "training...\n"
     ]
    },
    {
     "name": "stderr",
     "output_type": "stream",
     "text": [
      "100%|#########################################################################|\n",
      "  0%|                                                                         |\r"
     ]
    },
    {
     "name": "stdout",
     "output_type": "stream",
     "text": [
      "i =  856\n",
      "shuffling data...\n",
      "creating batches...\n",
      "training...\n"
     ]
    },
    {
     "name": "stderr",
     "output_type": "stream",
     "text": [
      "100%|#########################################################################|\n",
      "  0%|                                                                         |\r"
     ]
    },
    {
     "name": "stdout",
     "output_type": "stream",
     "text": [
      "i =  856\n",
      "shuffling data...\n",
      "creating batches...\n",
      "training...\n"
     ]
    },
    {
     "name": "stderr",
     "output_type": "stream",
     "text": [
      "100%|#########################################################################|\n",
      "  0%|                                                                         |\r"
     ]
    },
    {
     "name": "stdout",
     "output_type": "stream",
     "text": [
      "i =  856\n",
      "shuffling data...\n",
      "creating batches...\n",
      "training...\n"
     ]
    },
    {
     "name": "stderr",
     "output_type": "stream",
     "text": [
      "100%|#########################################################################|\n",
      "  0%|                                                                         |\r"
     ]
    },
    {
     "name": "stdout",
     "output_type": "stream",
     "text": [
      "i =  856\n",
      "shuffling data...\n",
      "creating batches...\n",
      "training...\n"
     ]
    },
    {
     "name": "stderr",
     "output_type": "stream",
     "text": [
      "100%|#########################################################################|\n",
      "  0%|                                                                         |\r"
     ]
    },
    {
     "name": "stdout",
     "output_type": "stream",
     "text": [
      "i =  856\n",
      "shuffling data...\n",
      "creating batches...\n",
      "training...\n"
     ]
    },
    {
     "name": "stderr",
     "output_type": "stream",
     "text": [
      "100%|#########################################################################|\n",
      "  0%|                                                                         |\r"
     ]
    },
    {
     "name": "stdout",
     "output_type": "stream",
     "text": [
      "i =  856\n",
      "shuffling data...\n",
      "creating batches...\n",
      "training...\n"
     ]
    },
    {
     "name": "stderr",
     "output_type": "stream",
     "text": [
      "100%|#########################################################################|\n",
      "  0%|                                                                         |\r"
     ]
    },
    {
     "name": "stdout",
     "output_type": "stream",
     "text": [
      "i =  856\n",
      "shuffling data...\n",
      "creating batches...\n",
      "training...\n"
     ]
    },
    {
     "name": "stderr",
     "output_type": "stream",
     "text": [
      "100%|#########################################################################|\n",
      "  0%|                                                                         |\r"
     ]
    },
    {
     "name": "stdout",
     "output_type": "stream",
     "text": [
      "i =  856\n",
      "shuffling data...\n",
      "creating batches...\n",
      "training...\n"
     ]
    },
    {
     "name": "stderr",
     "output_type": "stream",
     "text": [
      "100%|#########################################################################|\n",
      "  0%|                                                                         |\r"
     ]
    },
    {
     "name": "stdout",
     "output_type": "stream",
     "text": [
      "i =  856\n",
      "shuffling data...\n",
      "creating batches...\n",
      "training...\n"
     ]
    },
    {
     "name": "stderr",
     "output_type": "stream",
     "text": [
      "100%|#########################################################################|\n",
      "  0%|                                                                         |\r"
     ]
    },
    {
     "name": "stdout",
     "output_type": "stream",
     "text": [
      "i =  856\n",
      "shuffling data...\n",
      "creating batches...\n",
      "training...\n"
     ]
    },
    {
     "name": "stderr",
     "output_type": "stream",
     "text": [
      "100%|#########################################################################|\n",
      "  0%|                                                                         |\r"
     ]
    },
    {
     "name": "stdout",
     "output_type": "stream",
     "text": [
      "i =  856\n",
      "shuffling data...\n",
      "creating batches...\n",
      "training...\n"
     ]
    },
    {
     "name": "stderr",
     "output_type": "stream",
     "text": [
      "100%|#########################################################################|\n",
      "  0%|                                                                         |\r"
     ]
    },
    {
     "name": "stdout",
     "output_type": "stream",
     "text": [
      "i =  856\n",
      "shuffling data...\n",
      "creating batches...\n",
      "training...\n"
     ]
    },
    {
     "name": "stderr",
     "output_type": "stream",
     "text": [
      "100%|#########################################################################|\r"
     ]
    },
    {
     "name": "stdout",
     "output_type": "stream",
     "text": [
      "i =  856\n",
      "Wall time: 5min 3s\n"
     ]
    },
    {
     "name": "stderr",
     "output_type": "stream",
     "text": [
      "\n"
     ]
    }
   ],
   "source": [
    "%%time\n",
    "# set required seeds\n",
    "random.seed(1)\n",
    "spacy.util.fix_random_seed(1)\n",
    "\n",
    "\n",
    "\n",
    "# may have to uncomemnt this to avoi warnings\n",
    "#nlp.vocab.vectors.name = 'spacy_pretrained_vectors'\n",
    "\n",
    "print(\"random seeds set\")\n",
    "\n",
    "losses = {}\n",
    "rocs = []\n",
    "\n",
    "print(\"strings and lists initialized\")\n",
    "\n",
    "\n",
    "#learning process\n",
    "pipe_exceptions = ['textcat'] \n",
    "print(\"pipe_exceptions defined\")\n",
    "other_pipes = [pipe for pipe in nlp.pipe_names if pipe not in pipe_exceptions]\n",
    "print(\"other_pipes defined\")\n",
    "with nlp.disable_pipes(*other_pipes):  # only train textcat\n",
    "    optimizer = nlp.begin_training() # returns an optimizer. I tred to tune it but the default one seems to be the best\n",
    "    for epoch in range(15): # every epoch, all train data are used\n",
    "        print(\"shuffling data...\")\n",
    "        random.shuffle(train_data) # shuffle the data\n",
    "        print(\"creating batches...\")\n",
    "        batches = minibatch(train_data, size=compounding(4, 32, 1.001)) # size of n_th batch is 4*(1.001)^n, up to a maximum of 32\n",
    "        # Iterate through minibatches\n",
    "        pbar = ProgressBar(widgets=[Percentage(), Bar()], maxval=857).start() \n",
    "        i = 0\n",
    "        print(\"training...\")\n",
    "        for batch in batches:\n",
    "            # Each batch is a list of (text, label) but we need to\n",
    "            # send separate lists for texts and labels to update().\n",
    "            # This is a quick way to split a list of tuples into lists\n",
    "            texts1, labels = zip(*batch)\n",
    "            nlp.update(texts1, labels, sgd=optimizer, losses=losses, drop = 0.1) # set some drop to avoid overfitting during the first epochs. \n",
    "            i += 1\n",
    "            pbar.update(i)\n",
    "        pbar.finish()\n",
    "        print(\"i = \", i)"
   ]
  },
  {
   "cell_type": "code",
   "execution_count": 47,
   "metadata": {},
   "outputs": [
    {
     "name": "stderr",
     "output_type": "stream",
     "text": [
      " 13%|#########                                                                |\r"
     ]
    },
    {
     "name": "stdout",
     "output_type": "stream",
     "text": [
      "obtained textcat\n"
     ]
    },
    {
     "name": "stderr",
     "output_type": "stream",
     "text": [
      "100%|#########################################################################|\n"
     ]
    },
    {
     "name": "stdout",
     "output_type": "stream",
     "text": [
      "docs done\n",
      "prediction done\n",
      "           author    gender\n",
      "0    --redbeard--  0.228313\n",
      "1       -Allaina-  0.307801\n",
      "2  -AllonsyAlonso  0.090238\n",
      "3          -Beth-  0.277412\n",
      "4        -Greeny-  0.050699\n",
      "done\n"
     ]
    }
   ],
   "source": [
    "textcat = nlp.get_pipe(\"textcat\")\n",
    "print(\"obtained textcat\")\n",
    "# tokenize the texts to pass to the textcat\n",
    "# this line may take a while.\n",
    "docs = [] #nlp.tokenizer(str(tex)) for tex in l\n",
    "texts = test_data[\"subreddit\"].tolist()\n",
    "pbar = ProgressBar(widgets=[Percentage(), Bar()], maxval=len(texts)).start()\n",
    "i = 0\n",
    "for tex in texts:\n",
    "    docs.append(nlp.tokenizer(tex))\n",
    "    i += 1\n",
    "    pbar.update(i)\n",
    "pbar.finish()\n",
    "print(\"docs done\")\n",
    "# for each text (sequnece of subreddits separated by a space) the textcat predicts a list [a,b] where a is the probability that the author is a woman, while b is the probablility that the author is a man.\n",
    "# this line may take a while\n",
    "scores, a = textcat.predict(docs)\n",
    "print(\"prediction done\")\n",
    "# so the predictions are the first elements of all lists in scores\n",
    "pred_y = [s[0] for s in scores]\n",
    "# create dataframe for submission\n",
    "subs_test_predictions = pd.DataFrame({\"author\": test_data[\"author\"].tolist(), \"gender\": pred_y})\n",
    "print(subs_test_predictions.head(5))\n",
    "subs_test_predictions.to_csv(r\"subs_test_predictions_bow.csv\" , index = False)\n",
    "print(\"done\")"
   ]
  },
  {
   "cell_type": "code",
   "execution_count": 48,
   "metadata": {},
   "outputs": [
    {
     "data": {
      "image/png": "[encoded data removed]",
      "text/plain": [
       "<Figure size 432x288 with 1 Axes>"
      ]
     },
     "metadata": {
      "needs_background": "light"
     },
     "output_type": "display_data"
    }
   ],
   "source": [
    "import matplotlib.pyplot as plt\n",
    "plt.hist(pred_y, bins=\"auto\")\n",
    "plt.show()"
   ]
  },
  {
   "cell_type": "code",
   "execution_count": null,
   "metadata": {},
   "outputs": [],
   "source": []
  },
  {
   "cell_type": "code",
   "execution_count": null,
   "metadata": {},
   "outputs": [],
   "source": []
  },
  {
   "cell_type": "markdown",
   "metadata": {},
   "source": [
    "The problem is that while during validation we have good rocs, the roc on test is very low. But in class we saw that given the validation set is big enough and no heuristic is used during train-validation splitting, then also generalization should be good.\n",
    "Notice: the actual model I use is more complex, but it presents the same issue, in that it has roc as high as roc = 97 during validation, and then drops to 89 during prediction.\n",
    "Is there something about spacy i am actually missing?"
   ]
  }
 ],
 "metadata": {
  "kernelspec": {
   "display_name": "Python [conda env:myEnv]",
   "language": "python",
   "name": "conda-env-myEnv-py"
  },
  "language_info": {
   "codemirror_mode": {
    "name": "ipython",
    "version": 3
   },
   "file_extension": ".py",
   "mimetype": "text/x-python",
   "name": "python",
   "nbconvert_exporter": "python",
   "pygments_lexer": "ipython3",
   "version": "3.7.6"
  }
 },
 "nbformat": 4,
 "nbformat_minor": 4
}
