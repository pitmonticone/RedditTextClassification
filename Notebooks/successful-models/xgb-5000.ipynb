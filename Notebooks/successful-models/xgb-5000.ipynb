{
 "cells": [
  {
   "cell_type": "markdown",
   "metadata": {},
   "source": [
    "# Data Mining Challange: *Reddit Gender Text-Classification* \n",
    "\n",
    "### Modules"
   ]
  },
  {
   "cell_type": "code",
   "execution_count": 2,
   "metadata": {},
   "outputs": [],
   "source": [
    "# Numpy & matplotlib for notebooks \n",
    "%pylab inline\n",
    "\n",
    "# Pandas for data analysis and manipulation \n",
    "import pandas as pd \n",
    "\n",
    "# Sparse matrix package for numeric data.\n",
    "from scipy import sparse\n",
    "\n",
    "# Module for word embedding (word2vector)\n",
    "import gensim  \n",
    "\n",
    "# Module for progress monitoring\n",
    "import tqdm   \n",
    "\n",
    "# Sklearn \n",
    "from sklearn.preprocessing import StandardScaler # to standardize features by removing the mean and scaling to unit variance (z=(x-u)/s)\n",
    "from sklearn.neural_network import MLPClassifier # Multi-layer Perceptron classifier which optimizes the log-loss function using LBFGS or sdg.\n",
    "from sklearn.svm import SVC # Support Vector Classification\n",
    "from sklearn.ensemble import RandomForestClassifier # A meta-estimator that fits a number of decision tree classifiers on various sub-samples of the dataset and uses averaging to improve the predictive accuracy and control over-fitting\n",
    "from sklearn.decomposition import PCA, TruncatedSVD # Principal component analysis (PCA); dimensionality reduction using truncated SVD.\n",
    "from sklearn.linear_model import LogisticRegression \n",
    "from sklearn.naive_bayes import MultinomialNB # Naive Bayes classifier for multinomial models\n",
    "from sklearn.feature_extraction.text import CountVectorizer # Convert a collection of text documents to a matrix of token counts\n",
    "from sklearn.metrics import roc_auc_score as roc # Compute Area Under the Receiver Operating Characteristic Curve from prediction scores\n",
    "from sklearn.metrics import roc_curve, auc # Compute ROC; Compute Area Under the Curve (AUC) using the trapezoidal rule\n",
    "from sklearn.model_selection import RandomizedSearchCV, GridSearchCV # Exhaustive search over specified parameter values for a given estimator\n",
    "from sklearn.model_selection import cross_val_score # Evaluate a score by cross-validation\n",
    "from sklearn.model_selection import train_test_split # to split arrays or matrices into random train and test subsets\n",
    "from sklearn.model_selection import KFold # K-Folds cross-validator providing train/test indices to split data in train/test sets.\n",
    "from sklearn.model_selection import StratifiedShuffleSplit \n",
    "from sklearn.model_selection import StratifiedKFold\n",
    "\n",
    "import nltk\n",
    "import re\n",
    "from nltk.stem import WordNetLemmatizer \n",
    "from bs4 import BeautifulSoup   \n",
    "from nltk.corpus import stopwords \n",
    "from collections import defaultdict\n",
    "from nltk.tokenize import word_tokenize\n",
    "from nltk import pos_tag\n",
    "from nltk.corpus import wordnet as wn\n",
    "\n",
    "#XGBoost\n",
    "from xgboost import XGBRegressor\n",
    "\n",
    "# Matplotlib\n",
    "import matplotlib # Data visualization\n",
    "import matplotlib.pyplot as plt \n",
    "import matplotlib.patches as mpatches  \n",
    "\n",
    "# Seaborn\n",
    "import seaborn as sns # Statistical data visualization (based on matplotlib)\n",
    "\n",
    "# Joblib \n",
    "import joblib # To save models "
   ]
  },
  {
   "cell_type": "markdown",
   "metadata": {},
   "source": [
    "## Data Loading and Manipulation"
   ]
  },
  {
   "cell_type": "code",
   "execution_count": null,
   "metadata": {},
   "outputs": [],
   "source": [
    "# load data\n",
    "train_data = pd.read_csv(\"../input/dataset/train_data.csv\")\n",
    "target = pd.read_csv(\"../input/dataset/train_target.csv\")\n",
    "test_data = pd.read_csv(\"../input/dataset/test_data.csv\")\n",
    "\n",
    "# create authors gender dictionary\n",
    "author_gender = {}\n",
    "for i in range(len(target)):\n",
    "    author_gender[target.author[i]] = target.gender[i]\n",
    "    \n",
    "# X is the aggregated comments list\n",
    "X = []\n",
    "# the genders\n",
    "y = []\n",
    "# lengths of X elements\n",
    "X_len = []\n",
    "for author, group in train_data.groupby(\"author\"):\n",
    "    X.append(group.body.str.cat(sep = \" \"))\n",
    "    X_len.append([len(group.body)])\n",
    "    y.append(author_gender[author])"
   ]
  },
  {
   "cell_type": "markdown",
   "metadata": {},
   "source": [
    "## Preprocessing"
   ]
  },
  {
   "cell_type": "code",
   "execution_count": 3,
   "metadata": {},
   "outputs": [],
   "source": [
    "# preprocessing functions\n",
    "def remove_number(text):\n",
    "    num = re.compile(r'[-+]?[.\\d]*[\\d]+[:,.\\d]*')\n",
    "    return num.sub(r'NUMBER', text)\n",
    "\n",
    "def remove_URL(text):\n",
    "    url = re.compile(r'https?://\\S+|www\\.\\S+')\n",
    "    return url.sub(r'URL',text)\n",
    "\n",
    "def remove_repeat_punct(text):\n",
    "    rep = re.compile(r'([!?.]){2,}')\n",
    "    return rep.sub(r'\\1 REPEAT', text)\n",
    "\n",
    "def remove_elongated_words(text):\n",
    "    rep = re.compile(r'\\b(\\S*?)([a-z])\\2{2,}\\b')\n",
    "    return rep.sub(r'\\1\\2 ELONG', text)\n",
    "\n",
    "def remove_allcaps(text):\n",
    "    caps = re.compile(r'([^a-z0-9()<>\\'`\\-]){2,}')\n",
    "    return caps.sub(r'ALLCAPS', text)\n",
    "\n",
    "def transcription_smile(text):\n",
    "    eyes = \"[8:=;]\"\n",
    "    nose = \"['`\\-]\"\n",
    "    smiley = re.compile(r'[8:=;][\\'\\-]?[)dDp]')\n",
    "    #smiley = re.compile(r'#{eyes}#{nose}[)d]+|[)d]+#{nose}#{eyes}/i')\n",
    "    return smiley.sub(r'SMILE', text)\n",
    "\n",
    "def transcription_sad(text):\n",
    "    eyes = \"[8:=;]\"\n",
    "    nose = \"['`\\-]\"\n",
    "    smiley = re.compile(r'[8:=;][\\'\\-]?[(\\\\/]')\n",
    "    return smiley.sub(r'SADFACE', text)\n",
    "\n",
    "def transcription_heart(text):\n",
    "    heart = re.compile(r'<3')\n",
    "    return heart.sub(r'HEART', text)"
   ]
  },
  {
   "cell_type": "code",
   "execution_count": 4,
   "metadata": {},
   "outputs": [],
   "source": [
    "# tags Part of Speech (POS), because teh lemmatizer needs it\n",
    "tag_map = defaultdict(lambda : wn.NOUN)\n",
    "# wn does a grammatical analysis\n",
    "tag_map['J'] = wn.ADJ\n",
    "tag_map['V'] = wn.VERB\n",
    "tag_map['R'] = wn.ADV\n",
    "# create lemmatizer\n",
    "word_Lemmatized = WordNetLemmatizer()\n",
    "\n",
    "def review_to_words(raw_body):\n",
    "    # remove html tags\n",
    "    body_text = BeautifulSoup(raw_body).get_text() \n",
    "    #letters_only = re.sub(\"[^a-zA-Z]\", \" \", body_text)\n",
    "    # lowercase all text\n",
    "    words = body_text.lower()\n",
    "    # remove urls\n",
    "    text = remove_URL(words)\n",
    "    # remove numbers\n",
    "    text = remove_number(text)\n",
    "    # remove smiles\n",
    "    text = transcription_sad(text)\n",
    "    text = transcription_smile(text)\n",
    "    text = transcription_heart(text)\n",
    "    text = remove_elongated_words(text)\n",
    "    words = remove_repeat_punct(text)\n",
    "    # tokenizes and pass to lemmatizer, which lemmatizes taking tags into account (see before)\n",
    "    words = word_tokenize(words)\n",
    "    # we don't remove stop words, because doing it on combination with removing the 40 (trial & error estimated parameter) most utilized words (see below) decreases performance\n",
    "    #stops = set(stopwords.words(\"english\"))                  \n",
    "    #meaningful_words = [w for w in words if not w in stops]\n",
    "    Final_words = []\n",
    "    for word, tag in pos_tag(words):\n",
    "            word_Final = word_Lemmatized.lemmatize(word,tag_map[tag[0]])\n",
    "            Final_words.append(word_Final)\n",
    "    # returns lemmatized texts as strings \n",
    "    return( \" \".join(Final_words))   "
   ]
  },
  {
   "cell_type": "code",
   "execution_count": 5,
   "metadata": {},
   "outputs": [
    {
     "name": "stderr",
     "output_type": "stream",
     "text": [
      "/opt/conda/lib/python3.6/site-packages/bs4/__init__.py:389: UserWarning: \"http://mishkanyc.bandcamp.com/album/the-swoup-serengeti\" looks like a URL. Beautiful Soup is not an HTTP client. You should probably use an HTTP client like requests to get the document behind the URL, and feed that document to Beautiful Soup.\n",
      "  ' that document to Beautiful Soup.' % decoded_markup\n"
     ]
    }
   ],
   "source": [
    "clean_train_comments = [review_to_words(x) for x in X]"
   ]
  },
  {
   "cell_type": "markdown",
   "metadata": {},
   "source": [
    "## Train Countvectorizer, Optimize Input for Model Training"
   ]
  },
  {
   "cell_type": "code",
   "execution_count": null,
   "metadata": {},
   "outputs": [],
   "source": [
    "# We tried both tfidf and countvectorizer bow. The best performing turned out to be the countvectorizer\n",
    "\n",
    "vectorizer = CountVectorizer(analyzer = \"word\",\n",
    "                             max_features = 2000) \n",
    "\n",
    "train_data_features = vectorizer.fit_transform(clean_train_comments).toarray()\n",
    "\n",
    "print(train_data_features.shape)\n",
    "# Take a look at the words in the vocabulary\n",
    "vocab = vectorizer.get_feature_names()\n",
    "print(vocab)\n",
    "import numpy as np\n",
    "\n",
    "# Sum up the counts of each vocabulary word\n",
    "dist = np.sum(train_data_features, axis=0)\n",
    "\n",
    "# For each, print the vocabulary word and the number of times it \n",
    "# appears in the training set\n",
    "for tag, count in zip(vocab, dist):\n",
    "    print(count, tag)\n",
    "    \n",
    "# removes the 40 most utilized words\n",
    "for _ in range(40):\n",
    "    index = np.argmax(dist)\n",
    "    train_data_features = np.delete(train_data_features, index, axis = 1)\n",
    "    \n",
    "print(train_data_features.shape)\n",
    "\n",
    "s = np.concatenate((train_data_features,np.array(X_len)),axis = 1)\n",
    "print(s.shape)\n",
    "y = np.array(y)"
   ]
  },
  {
   "cell_type": "markdown",
   "metadata": {},
   "source": [
    "## Train Data TruncatedSVD visualization"
   ]
  },
  {
   "cell_type": "code",
   "execution_count": 7,
   "metadata": {},
   "outputs": [
    {
     "data": {
      "image/png": "[encoded data removed]",
      "text/plain": [
       "<Figure size 576x576 with 1 Axes>"
      ]
     },
     "metadata": {
      "needs_background": "light"
     },
     "output_type": "display_data"
    }
   ],
   "source": [
    "# Plot the test data along the 2 dimensions of largest variance\n",
    "def plot_LSA(test_data, test_labels, savepath=\"PCA_demo.csv\", plot=True):\n",
    "        lsa = TruncatedSVD(n_components=2)\n",
    "        lsa.fit(test_data)\n",
    "        lsa_scores = lsa.transform(test_data)\n",
    "        color_mapper = {label:idx for idx,label in enumerate(set(test_labels))}\n",
    "        color_column = [color_mapper[label] for label in test_labels]\n",
    "        colors = ['orange','blue']\n",
    "        if plot:\n",
    "            plt.scatter(lsa_scores[:,0], lsa_scores[:,1], s=8, alpha=.8, c=test_labels, cmap=matplotlib.colors.ListedColormap(colors))\n",
    "            orange_patch = mpatches.Patch(color='orange', label='M')\n",
    "            blue_patch = mpatches.Patch(color='blue', label='F')\n",
    "            plt.legend(handles=[orange_patch, blue_patch], prop={'size': 20})\n",
    "\n",
    "fig = plt.figure(figsize=(8, 8))          \n",
    "plot_LSA(s, y)\n",
    "plt.show()"
   ]
  },
  {
   "cell_type": "markdown",
   "metadata": {},
   "source": [
    "## Model Training and Prediction"
   ]
  },
  {
   "cell_type": "code",
   "execution_count": 8,
   "metadata": {},
   "outputs": [
    {
     "data": {
      "text/plain": [
       "XGBRegressor(base_score=0.5, booster='gbtree', colsample_bylevel=1,\n",
       "             colsample_bynode=1, colsample_bytree=0.6, gamma=1.5,\n",
       "             importance_type='gain', learning_rate=0.01, max_delta_step=0,\n",
       "             max_depth=4, min_child_weight=1, missing=None, n_estimators=3550,\n",
       "             n_jobs=4, nthread=None, objective='reg:logistic', random_state=0,\n",
       "             reg_alpha=0, reg_lambda=1, scale_pos_weight=1, seed=None,\n",
       "             silent=None, subsample=0.9, verbosity=1)"
      ]
     },
     "execution_count": 8,
     "metadata": {},
     "output_type": "execute_result"
    }
   ],
   "source": [
    "# XGBoost model with parameters set with a RandomGridSearch\n",
    "# subsample: Subsample ratio of the training instances. Prevents overfitting.\n",
    "# subsample ratio of columns when constructing each tree.\n",
    "\n",
    "my_model = XGBRegressor(objective = \"reg:logistic\",n_estimators=3550, learning_rate=0.01, n_jobs=4,subsample = 0.9,\n",
    "                       min_child_weight = 1,max_depth=4,gamma=1.5,colsample_bytree=0.6 )\n",
    "# fits\n",
    "my_model.fit(s, y)"
   ]
  },
  {
   "cell_type": "code",
   "execution_count": 9,
   "metadata": {},
   "outputs": [
    {
     "name": "stderr",
     "output_type": "stream",
     "text": [
      "/opt/conda/lib/python3.6/site-packages/bs4/__init__.py:389: UserWarning: \"http://instagram.com/samerkhouzami\" looks like a URL. Beautiful Soup is not an HTTP client. You should probably use an HTTP client like requests to get the document behind the URL, and feed that document to Beautiful Soup.\n",
      "  ' that document to Beautiful Soup.' % decoded_markup\n",
      "/opt/conda/lib/python3.6/site-packages/bs4/__init__.py:389: UserWarning: \"http://e24.no/bil/her-leverer-amazon-bil-i-pappeske/22708631\" looks like a URL. Beautiful Soup is not an HTTP client. You should probably use an HTTP client like requests to get the document behind the URL, and feed that document to Beautiful Soup.\n",
      "  ' that document to Beautiful Soup.' % decoded_markup\n",
      "/opt/conda/lib/python3.6/site-packages/bs4/__init__.py:314: UserWarning: \"b'.'\" looks like a filename, not markup. You should probably open this file and pass the filehandle into Beautiful Soup.\n",
      "  ' Beautiful Soup.' % markup)\n",
      "/opt/conda/lib/python3.6/site-packages/bs4/__init__.py:389: UserWarning: \"http://i.imgur.com/BH8hH63.png\" looks like a URL. Beautiful Soup is not an HTTP client. You should probably use an HTTP client like requests to get the document behind the URL, and feed that document to Beautiful Soup.\n",
      "  ' that document to Beautiful Soup.' % decoded_markup\n",
      "/opt/conda/lib/python3.6/site-packages/bs4/__init__.py:389: UserWarning: \"http://imgur.com/s8XW68r\" looks like a URL. Beautiful Soup is not an HTTP client. You should probably use an HTTP client like requests to get the document behind the URL, and feed that document to Beautiful Soup.\n",
      "  ' that document to Beautiful Soup.' % decoded_markup\n"
     ]
    }
   ],
   "source": [
    "# Prepare and predict the test dataset\n",
    "X_test = []\n",
    "X_len_test = []\n",
    "for author, group in test_data.groupby(\"author\"):\n",
    "    X_test.append(group.body.str.cat(sep = \" \"))\n",
    "    X_len_test.append([len(group.body)])\n",
    "    \n",
    "clean_comments_test = [review_to_words(x) for x in X_test]\n",
    "data_features = vectorizer.transform(clean_comments_test).toarray()\n",
    "\n",
    "for _ in range(40):\n",
    "    index = np.argmax(dist)\n",
    "    data_features = np.delete(data_features, index, axis = 1)\n",
    "    \n",
    "s_test = np.concatenate((data_features,X_len_test),axis = 1)"
   ]
  },
  {
   "cell_type": "code",
   "execution_count": 10,
   "metadata": {},
   "outputs": [],
   "source": [
    "# Save the predictions\n",
    "y_predict = my_model.predict(s_test)\n",
    "np.save('y_predict_testXGBnS.csv',y_predict)"
   ]
  }
 ],
 "metadata": {
  "kernelspec": {
   "display_name": "Python 3",
   "language": "python",
   "name": "python3"
  },
  "language_info": {
   "codemirror_mode": {
    "name": "ipython",
    "version": 3
   },
   "file_extension": ".py",
   "mimetype": "text/x-python",
   "name": "python",
   "nbconvert_exporter": "python",
   "pygments_lexer": "ipython3",
   "version": "3.7.4"
  }
 },
 "nbformat": 4,
 "nbformat_minor": 4
}
