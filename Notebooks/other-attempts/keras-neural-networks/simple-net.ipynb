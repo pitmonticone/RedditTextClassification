{
 "cells": [
  {
   "cell_type": "code",
   "execution_count": 1,
   "metadata": {},
   "outputs": [
    {
     "name": "stdout",
     "output_type": "stream",
     "text": [
      "[name: \"/device:CPU:0\"\n",
      "device_type: \"CPU\"\n",
      "memory_limit: 268435456\n",
      "locality {\n",
      "}\n",
      "incarnation: 5058569731859551109\n",
      ", name: \"/device:XLA_CPU:0\"\n",
      "device_type: \"XLA_CPU\"\n",
      "memory_limit: 17179869184\n",
      "locality {\n",
      "}\n",
      "incarnation: 17432657080112918623\n",
      "physical_device_desc: \"device: XLA_CPU device\"\n",
      ", name: \"/device:XLA_GPU:0\"\n",
      "device_type: \"XLA_GPU\"\n",
      "memory_limit: 17179869184\n",
      "locality {\n",
      "}\n",
      "incarnation: 23231750620979664\n",
      "physical_device_desc: \"device: XLA_GPU device\"\n",
      ", name: \"/device:GPU:0\"\n",
      "device_type: \"GPU\"\n",
      "memory_limit: 15870492672\n",
      "locality {\n",
      "  bus_id: 1\n",
      "  links {\n",
      "  }\n",
      "}\n",
      "incarnation: 165579305959611017\n",
      "physical_device_desc: \"device: 0, name: Tesla P100-PCIE-16GB, pci bus id: 0000:00:04.0, compute capability: 6.0\"\n",
      "]\n"
     ]
    },
    {
     "name": "stderr",
     "output_type": "stream",
     "text": [
      "Using TensorFlow backend.\n"
     ]
    },
    {
     "name": "stdout",
     "output_type": "stream",
     "text": [
      "CPU times: user 3.6 s, sys: 1.2 s, total: 4.81 s\n",
      "Wall time: 11.1 s\n"
     ]
    }
   ],
   "source": [
    "%%time\n",
    "#print(\"1\")\n",
    "import tensorflow as tf\n",
    "from numba import cuda\n",
    "from tensorflow.python.client import device_lib\n",
    "print(device_lib.list_local_devices())\n",
    "from keras.preprocessing.sequence import pad_sequences\n",
    "#print(\"2\")\n",
    "from sklearn.feature_extraction.text import TfidfVectorizer\n",
    "from sklearn.preprocessing import StandardScaler\n",
    "import pickle\n",
    "from keras.layers import Dense, Input, Dropout\n",
    "from keras import Sequential\n",
    "from sklearn.preprocessing import StandardScaler\n",
    "from tensorflow.keras.callbacks import EarlyStopping\n",
    "import matplotlib.pyplot as plt\n",
    "import keras\n",
    "from sklearn.model_selection import train_test_split\n",
    "from keras.constraints import maxnorm\n",
    "import numpy as np\n",
    "from sklearn.metrics import roc_auc_score"
   ]
  },
  {
   "cell_type": "code",
   "execution_count": 2,
   "metadata": {},
   "outputs": [],
   "source": [
    "def plot_history(history):\n",
    "    accuracy = history.history['accuracy']\n",
    "    val_accuracy = history.history['val_accuracy']\n",
    "    loss = history.history['loss']\n",
    "    val_loss = history.history['val_loss']\n",
    "    auc = history.history['auc']\n",
    "    val_auc = history.history['val_auc']\n",
    "    x = range(1, len(accuracy) + 1)\n",
    "\n",
    "    plt.figure(figsize=(12, 5))\n",
    "    plt.subplot(1, 3, 1)\n",
    "    plt.plot(x, accuracy, 'b', label='Training accuracy')\n",
    "    plt.plot(x, val_accuracy, 'r', label='Validation accuracy')\n",
    "    plt.title('Training and validation accuracy')\n",
    "    plt.legend()\n",
    "    plt.subplot(1, 3, 2)\n",
    "    plt.plot(x, loss, 'b', label='Training loss')\n",
    "    plt.plot(x, val_loss, 'r', label='Validation loss')\n",
    "    plt.title('Training and validation loss')\n",
    "    plt.legend()\n",
    "    plt.subplot(1, 3, 3)\n",
    "    plt.plot(x, auc, 'b', label='Training auc')\n",
    "    plt.plot(x, val_auc, 'r', label='Validation auc')\n",
    "    plt.title('Training and validation auc')\n",
    "    plt.legend()"
   ]
  },
  {
   "cell_type": "code",
   "execution_count": 3,
   "metadata": {
    "_cell_guid": "79c7e3d0-c299-4dcb-8224-4455121ee9b0",
    "_uuid": "d629ff2d2480ee46fbb7e2d37f6b5fab8052498a"
   },
   "outputs": [
    {
     "name": "stdout",
     "output_type": "stream",
     "text": [
      "training tfidf and vectorizing train\n",
      "vocab_size =  94695\n",
      "evaluating maxlen\n",
      "padding\n",
      "training scaler and scaling train\n",
      "preparing validation set. Vectorizing...\n",
      "padding...\n",
      "scaling...\n",
      "saving1\n",
      "saving2\n",
      "saving2\n",
      "CPU times: user 34.8 s, sys: 7.4 s, total: 42.2 s\n",
      "Wall time: 43 s\n"
     ]
    }
   ],
   "source": [
    "%%time\n",
    "\n",
    "with open(r\"../input/challengedadata/comments.txt\", \"rb\") as f:\n",
    "    clean_train_comments = pickle.load(f) \n",
    "    f.close()\n",
    "\n",
    "with open(r\"../input/challengedadata/targets.txt\", \"rb\") as ft:\n",
    "    y= pickle.load(ft) \n",
    "    ft.close()\n",
    "\n",
    "    \n",
    "y = [int(s) for s in y]\n",
    "\n",
    "# # alternaticve tokenization. The obvious relation between num_words and vocab_sizet (the should be equal) is here not satisfied. As we don't understand it, we will not use it.\n",
    "# from keras.preprocessing.text import Tokenizer\n",
    "# tokenizer = Tokenizer(num_words=5000)\n",
    "# # train tokenizer (bow model)\n",
    "# tokenizer.fit_on_texts(clean_train_comments)\n",
    "# vocab_sizet = len(tokenizer.word_index) + 1\n",
    "# print(vocab_sizet)\n",
    "# # X will be the array of bows\n",
    "# Xt = tokenizer.texts_to_sequences(clean_train_comments)\n",
    "# maxlent = max([len(x) for x in Xt])\n",
    "# Xt_pad = pad_sequences(Xt, padding='post', maxlen=maxlent)\n",
    "# print(\"done with tokenizer\")\n",
    "## end of alternaticve tokenization\n",
    "\n",
    "# # standard scaler on keras tokenizer\n",
    "# print(\"ss on tokenizer\")\n",
    "# scaler = StandardScaler(with_mean=False)\n",
    "# Xt_pad_scal = scaler.fit_transform(Xt_pad)\n",
    "# # end of scaler on keras tokenizer\n",
    "\n",
    "#tfidf vectorization\n",
    "tfidf = TfidfVectorizer(sublinear_tf=True, min_df=5,\n",
    "                        ngram_range=(1, 2), \n",
    "                        stop_words='english')\n",
    "\n",
    "clean_train,clean_valid,y_train,y_valid = train_test_split(clean_train_comments,y, train_size = 0.8, test_size = 0.2, random_state = 0)\n",
    "# clean_train = np.array(clean_train)\n",
    "# clean_valid = np.array(clean_valid)\n",
    "# We transform each complaint into a vector\n",
    "print(\"training tfidf and vectorizing train\")\n",
    "X_train = tfidf.fit_transform(clean_train).toarray() #clean-train_comments # as this: https://stats.stackexchange.com/questions/154660/tfidfvectorizer-should-it-be-used-on-train-only-or-traintest   and this: https://stackoverflow.com/questions/47778403/computing-tf-idf-on-the-whole-dataset-or-only-on-training-data suggest,train tfidf only on training set\n",
    "vocab_size = len(tfidf.vocabulary_) + 1\n",
    "print(\"vocab_size = \", vocab_size)\n",
    "print(\"evaluating maxlen\")\n",
    "# evaluate max len train data\n",
    "maxlen_train = max([len(x) for x in X_train])\n",
    "# pad train data accordingly\n",
    "print(\"padding\")\n",
    "X_train_pad =  pad_sequences(X_train, padding='post', maxlen=maxlen_train, dtype='float32') \n",
    "#train scaler\n",
    "print(\"training scaler and scaling train\")\n",
    "scaler = StandardScaler(with_mean=False)\n",
    "X_train_pad_scal = scaler.fit_transform(X_train_pad)\n",
    "print(\"preparing validation set. Vectorizing...\")\n",
    "X_valid = tfidf.transform(clean_valid).toarray()\n",
    "print(\"padding...\")\n",
    "X_valid_pad = pad_sequences(X_valid, padding='post', maxlen=maxlen_train, dtype='float32') \n",
    "print(\"scaling...\")\n",
    "X_valid_pad_scal = scaler.transform(X_valid_pad)\n",
    "\n",
    "\n",
    "print(\"saving1\")\n",
    "with open(\"../working/X_train_pad_scal.txt\", \"wb\") as f:\n",
    "    pickle.dump(X_train_pad_scal,f)\n",
    "    f.close()\n",
    "    \n",
    "print(\"saving2\")\n",
    "with open(\"../working/X_valid_pad_scal.txt\", \"wb\") as f:\n",
    "    pickle.dump(X_valid_pad_scal,f)\n",
    "    f.close()\n",
    "\n",
    "\n",
    "print(\"saving2\")\n",
    "with open(\"../working/y.txt\", \"wb\") as f:\n",
    "    pickle.dump(y,f)\n",
    "    f.close()"
   ]
  },
  {
   "cell_type": "code",
   "execution_count": 4,
   "metadata": {},
   "outputs": [],
   "source": [
    "# Define the models.\n",
    "\n",
    "def model0():  # from https://medium.com/@am.benatmane/keras-hyperparameter-tuning-using-sklearn-pipelines-grid-search-with-cross-validation-ccfc74b0ce9f\n",
    "\n",
    "    METRICS = [ \n",
    "          tf.keras.metrics.BinaryAccuracy(name='accuracy'),\n",
    "          tf.keras.metrics.AUC(name='auc'),\n",
    "    ]\n",
    "\n",
    "    optimizer=\"Adamax\" #\"adam\"\n",
    "    dropout=0.3 #0.2\n",
    "    init= \"uniform\" #\"normal\"#'he_uniform' #\"uniform\"\n",
    "    nbr_features= vocab_size-1 #2500\n",
    "    dense_nparams= 256 #128 #512 #256\n",
    "\n",
    "    model = Sequential()\n",
    "    model.add(Dense(dense_nparams, activation='softsign', input_shape=(nbr_features,), kernel_initializer=init,  kernel_constraint=maxnorm(3))) #3 # maxnorm(0) & softmax & sigmoid -> 0.89 # maxnorm(0) & softmax & softmax -> 0.5  maxnorm(2) & relu & sigmoid ->0.92  maxnorm(1) & relu & sigmoid ->0.82\n",
    "    model.add(Dropout(dropout))\n",
    "    model.add(Dense(1, activation='sigmoid')) #'sigmoid' # relu & \"softmax\" fa 0.5-> non va bene  #' relu & softplus' -> 0.75 \n",
    "    model.compile(loss='binary_crossentropy', optimizer=optimizer,metrics = METRICS)\n",
    "    return model\n",
    "    "
   ]
  },
  {
   "cell_type": "code",
   "execution_count": 5,
   "metadata": {},
   "outputs": [],
   "source": [
    "class MyCustomCallback(tf.keras.callbacks.Callback):\n",
    "    \n",
    "    def on_epoch_end(self,epoch, logs=None):\n",
    "        y_pred = model.predict_proba(X_valid_pad, batch_size = 1)\n",
    "        print(\"roc evaluated with scikit = \",roc_auc_score(y_valid, y_pred))\n",
    "        return\n",
    "    "
   ]
  },
  {
   "cell_type": "code",
   "execution_count": 6,
   "metadata": {},
   "outputs": [
    {
     "name": "stdout",
     "output_type": "stream",
     "text": [
      "Train on 4000 samples, validate on 1000 samples\n",
      "Epoch 1/5\n",
      "4000/4000 [==============================] - 5s 1ms/step - loss: 0.4983 - accuracy: 0.7364 - auc: 0.6594 - val_loss: 0.4183 - val_accuracy: 0.7659 - val_auc: 0.7939\n",
      "roc evaluated with scikit =  0.8653810863714215\n",
      "Epoch 2/5\n",
      "4000/4000 [==============================] - 3s 845us/step - loss: 0.2739 - accuracy: 0.8057 - auc: 0.8562 - val_loss: 0.3829 - val_accuracy: 0.8293 - val_auc: 0.8868\n",
      "roc evaluated with scikit =  0.8746278851643423\n",
      "Epoch 3/5\n",
      "4000/4000 [==============================] - 3s 827us/step - loss: 0.1594 - accuracy: 0.8492 - auc: 0.9094 - val_loss: 0.3881 - val_accuracy: 0.8634 - val_auc: 0.9239\n",
      "roc evaluated with scikit =  0.8762539760215315\n",
      "Epoch 4/5\n",
      "4000/4000 [==============================] - 3s 854us/step - loss: 0.0941 - accuracy: 0.8759 - auc: 0.9355 - val_loss: 0.3943 - val_accuracy: 0.8854 - val_auc: 0.9435\n",
      "roc evaluated with scikit =  0.8743526221352256\n",
      "Epoch 5/5\n",
      "4000/4000 [==============================] - 4s 938us/step - loss: 0.0577 - accuracy: 0.8937 - auc: 0.9501 - val_loss: 0.4082 - val_accuracy: 0.9001 - val_auc: 0.9550\n",
      "roc evaluated with scikit =  0.8713298262784437\n",
      "CPU times: user 25.8 s, sys: 4.39 s, total: 30.1 s\n",
      "Wall time: 26.7 s\n"
     ]
    },
    {
     "data": {
      "image/png": "[encoded data removed]",
      "text/plain": [
       "<Figure size 864x360 with 3 Axes>"
      ]
     },
     "metadata": {
      "needs_background": "light"
     },
     "output_type": "display_data"
    }
   ],
   "source": [
    "%%time\n",
    "# early stopping\n",
    "callbacks = EarlyStopping(\n",
    "        monitor='val_loss', # val_accuracy\n",
    "        min_delta=1e-2,\n",
    "        patience=2, #2\n",
    "        verbose=10)\n",
    "\n",
    "\n",
    "model = model0()\n",
    "\n",
    "history = model.fit(x=X_train_pad, y=y_train, batch_size = 16, epochs = 5, verbose=1,validation_data = (X_valid_pad,y_valid), callbacks=[MyCustomCallback()], shuffle=True, validation_freq=1, max_queue_size=10, workers=4, use_multiprocessing=True) #, callbacks=callbacks , validation_split=0.2\n",
    "plot_history(history)\n",
    "\n",
    "\n",
    "\n",
    "# reset gpu memory https://stackoverflow.com/a/60354785/13110508 (but be warned: it crashes python, so use it just at the end)\n",
    "# device = cuda.get_current_device()\n",
    "# device.reset()"
   ]
  }
 ],
 "metadata": {
  "kernelspec": {
   "display_name": "tf-gpu",
   "language": "python",
   "name": "python3"
  },
  "language_info": {
   "codemirror_mode": {
    "name": "ipython",
    "version": 3
   },
   "file_extension": ".py",
   "mimetype": "text/x-python",
   "name": "python",
   "nbconvert_exporter": "python",
   "pygments_lexer": "ipython3",
   "version": "3.6.6"
  }
 },
 "nbformat": 4,
 "nbformat_minor": 4
}
