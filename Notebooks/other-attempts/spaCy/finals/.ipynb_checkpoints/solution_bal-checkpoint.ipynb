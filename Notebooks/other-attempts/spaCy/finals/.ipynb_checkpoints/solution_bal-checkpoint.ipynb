{
 "cells": [
  {
   "cell_type": "code",
   "execution_count": 3,
   "metadata": {},
   "outputs": [],
   "source": [
    "import pandas as pd\n",
    "import joblib"
   ]
  },
  {
   "cell_type": "code",
   "execution_count": 4,
   "metadata": {},
   "outputs": [],
   "source": [
    "subs = pd.read_csv(r\"subs_bal_test_predictions.csv\")\n",
    "bodieswS = pd.read_csv(r\"bodieswS_bal_test_predictions.csv\")\n",
    "W2v = pd.read_csv(r\"spacyW2v_bal_test_predictions.csv\")"
   ]
  },
  {
   "cell_type": "code",
   "execution_count": 5,
   "metadata": {},
   "outputs": [],
   "source": [
    "lr = joblib.load(r\"Qbal_lr\\bal_lr.sav\")"
   ]
  },
  {
   "cell_type": "code",
   "execution_count": 6,
   "metadata": {},
   "outputs": [],
   "source": [
    "df = pd.DataFrame({\"subs\": subs[\"pred_y\"].tolist(), \"bodieswS\": bodieswS[\"pred_y\"].tolist(), \"W2v\": W2v[\"pred_y\"].tolist()})"
   ]
  },
  {
   "cell_type": "code",
   "execution_count": 7,
   "metadata": {},
   "outputs": [
    {
     "name": "stdout",
     "output_type": "stream",
     "text": [
      "[[0.48052195 0.09621675 0.53980164]\n",
      " [0.51025856 0.98378307 0.56349511]\n",
      " [0.26692441 0.34320322 0.47294487]\n",
      " [0.40504095 0.37116724 0.69072162]\n",
      " [0.43180564 0.83457643 0.59301484]]\n"
     ]
    }
   ],
   "source": [
    "X = df.to_numpy()\n",
    "print(X[0:5])"
   ]
  },
  {
   "cell_type": "code",
   "execution_count": 8,
   "metadata": {},
   "outputs": [
    {
     "name": "stdout",
     "output_type": "stream",
     "text": [
      "[0.01094408 0.62939482 0.030943   0.06394275 0.42612817]\n"
     ]
    }
   ],
   "source": [
    "sols = lr.predict_proba(X)[:,1]\n",
    "print(sols[:5])"
   ]
  },
  {
   "cell_type": "code",
   "execution_count": 9,
   "metadata": {},
   "outputs": [
    {
     "name": "stdout",
     "output_type": "stream",
     "text": [
      "           author    gender\n",
      "0    --redbeard--  0.010944\n",
      "1       -Allaina-  0.629395\n",
      "2  -AllonsyAlonso  0.030943\n",
      "3          -Beth-  0.063943\n",
      "4        -Greeny-  0.426128\n"
     ]
    }
   ],
   "source": [
    "solution = pd.DataFrame({\"author\": subs[\"author\"].tolist(), \"gender\":sols})\n",
    "print(solution.head())"
   ]
  },
  {
   "cell_type": "code",
   "execution_count": 10,
   "metadata": {},
   "outputs": [],
   "source": [
    "solution.to_csv(r\"bal_lrSolution.csv\", index = False)"
   ]
  },
  {
   "cell_type": "code",
   "execution_count": null,
   "metadata": {},
   "outputs": [],
   "source": []
  }
 ],
 "metadata": {
  "kernelspec": {
   "display_name": "Python [conda env:myEnv]",
   "language": "python",
   "name": "conda-env-myEnv-py"
  },
  "language_info": {
   "codemirror_mode": {
    "name": "ipython",
    "version": 3
   },
   "file_extension": ".py",
   "mimetype": "text/x-python",
   "name": "python",
   "nbconvert_exporter": "python",
   "pygments_lexer": "ipython3",
   "version": "3.7.6"
  }
 },
 "nbformat": 4,
 "nbformat_minor": 4
}
