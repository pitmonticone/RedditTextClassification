{
 "cells": [
  {
   "cell_type": "code",
   "execution_count": 1,
   "metadata": {},
   "outputs": [],
   "source": [
    "import pandas as pd \n",
    "from sklearn.metrics import roc_curve, auc\n",
    "from sklearn.model_selection import train_test_split\n",
    "from sklearn.model_selection import KFold\n",
    "import matplotlib.pyplot as plt\n",
    "import numpy as np\n",
    "from sklearn import svm\n",
    "import joblib"
   ]
  },
  {
   "cell_type": "code",
   "execution_count": 2,
   "metadata": {},
   "outputs": [],
   "source": [
    "bodies = pd.read_csv(r\"bodies.csv\")\n",
    "bodieswS = pd.read_csv(r\"bodieswS.csv\")\n",
    "subs = pd.read_csv(r\"subs.csv\")\n",
    "W2v= pd.read_csv(r\"W2v.csv\")\n",
    "W2vwS = pd.read_csv(r\"W2vwS.csv\")\n",
    "bodieswSdrop = pd.read_csv(r\"bodieswSdrop.csv\")"
   ]
  },
  {
   "cell_type": "code",
   "execution_count": 3,
   "metadata": {},
   "outputs": [
    {
     "name": "stdout",
     "output_type": "stream",
     "text": [
      "   true_y  bodies_y  bodieswS_y    subs_y     W2v_y   W2vwS_y  bodieswSdrop_y\n",
      "0       0  0.094856    0.120936  0.193810  0.093180  0.060750        0.046726\n",
      "1       1  0.106738    0.099757  0.478376  0.178994  0.149258        0.044623\n",
      "2       0  0.549541    0.253948  0.338182  0.892713  0.913806        0.222466\n",
      "3       1  0.425894    0.838085  0.374291  0.856181  0.820273        0.900915\n",
      "4       0  0.553865    0.341898  0.284349  0.461019  0.478457        0.525452\n"
     ]
    }
   ],
   "source": [
    "df = pd.DataFrame({\"true_y\": bodies[\"true_y\"].tolist(), \"bodies_y\":bodies[\"pred_y\"].tolist(), \"bodieswS_y\": bodieswS[\"pred_y\"].tolist(), \"subs_y\": subs[\"pred_y\"].tolist(), \"W2v_y\": W2v[\"pred_y\"].tolist(), \"W2vwS_y\": W2vwS[\"pred_y\"].tolist(), \"bodieswSdrop_y\":bodieswSdrop[\"pred_y\"].tolist() })\n",
    "print(df.head(5))"
   ]
  },
  {
   "cell_type": "code",
   "execution_count": 4,
   "metadata": {},
   "outputs": [
    {
     "name": "stdout",
     "output_type": "stream",
     "text": [
      "   bodieswSdrop_y    subs_y     W2v_y\n",
      "0        0.046726  0.193810  0.093180\n",
      "1        0.044623  0.478376  0.178994\n",
      "2        0.222466  0.338182  0.892713\n",
      "3        0.900915  0.374291  0.856181\n",
      "4        0.525452  0.284349  0.461019\n"
     ]
    }
   ],
   "source": [
    "X = df.loc[:, [\"bodieswSdrop_y\", \"subs_y\", \"W2v_y\"]] #, \"subs_y\", \"W2v_y\"\n",
    "print(X.head(5))\n",
    "y = df.true_y"
   ]
  },
  {
   "cell_type": "code",
   "execution_count": 5,
   "metadata": {},
   "outputs": [
    {
     "name": "stdout",
     "output_type": "stream",
     "text": [
      "1000 1000 (1000, 3) (1000,)\n"
     ]
    }
   ],
   "source": [
    "X = X.to_numpy()\n",
    "y = y.to_numpy()\n",
    "print(len(X), len(y), X.shape, y.shape)"
   ]
  },
  {
   "cell_type": "code",
   "execution_count": 6,
   "metadata": {},
   "outputs": [
    {
     "name": "stdout",
     "output_type": "stream",
     "text": [
      "done 1\n",
      "done 1\n",
      "done 1\n",
      "done 1\n",
      "done 1\n",
      "done 1\n",
      "done 1\n",
      "done 1\n",
      "done 1\n",
      "done 1\n"
     ]
    }
   ],
   "source": [
    "svm = svm.SVC(C=1.0, kernel='poly', degree=2, gamma='scale', coef0=0.0, shrinking=True, probability=True, tol=0.001, cache_size=200, class_weight=None, verbose=False, max_iter=-1,\n",
    "               decision_function_shape='ovr', break_ties=False, random_state=None)\n",
    "              \n",
    "kf = KFold(n_splits = 10)\n",
    "\n",
    "for train_indices, test_indices in kf.split(X):\n",
    "    svm.fit(X[train_indices], y[train_indices])\n",
    "    print(\"done 1\")\n",
    "#     print(svm.score(x_train[test_indices], y_train[test_indices]))\n",
    "# y_scoreSVM = svm.predict_proba(x_validation)[:,1]"
   ]
  },
  {
   "cell_type": "code",
   "execution_count": 8,
   "metadata": {},
   "outputs": [
    {
     "data": {
      "text/plain": [
       "['Q:\\\\tooBigToDrive\\\\data-mining\\\\kaggle\\\\my_models\\\\spaCy\\\\savedModels\\\\svm\\\\svm.sav']"
      ]
     },
     "execution_count": 8,
     "metadata": {},
     "output_type": "execute_result"
    }
   ],
   "source": [
    "joblib.dump(svm , r\"svm\\svm.sav\")"
   ]
  }
 ],
 "metadata": {
  "kernelspec": {
   "display_name": "Python [conda env:myEnv]",
   "language": "python",
   "name": "conda-env-myEnv-py"
  },
  "language_info": {
   "codemirror_mode": {
    "name": "ipython",
    "version": 3
   },
   "file_extension": ".py",
   "mimetype": "text/x-python",
   "name": "python",
   "nbconvert_exporter": "python",
   "pygments_lexer": "ipython3",
   "version": "3.7.6"
  }
 },
 "nbformat": 4,
 "nbformat_minor": 4
}
