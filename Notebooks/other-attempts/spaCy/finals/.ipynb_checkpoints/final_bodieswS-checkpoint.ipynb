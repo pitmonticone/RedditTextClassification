{
 "cells": [
  {
   "cell_type": "code",
   "execution_count": 1,
   "metadata": {},
   "outputs": [
    {
     "name": "stderr",
     "output_type": "stream",
     "text": [
      "Q:\\anaconda\\envs\\myEnv\\lib\\site-packages\\tensorflow\\python\\framework\\dtypes.py:526: FutureWarning: Passing (type, 1) or '1type' as a synonym of type is deprecated; in a future version of numpy, it will be understood as (type, (1,)) / '(1,)type'.\n",
      "  _np_qint8 = np.dtype([(\"qint8\", np.int8, 1)])\n",
      "Q:\\anaconda\\envs\\myEnv\\lib\\site-packages\\tensorflow\\python\\framework\\dtypes.py:527: FutureWarning: Passing (type, 1) or '1type' as a synonym of type is deprecated; in a future version of numpy, it will be understood as (type, (1,)) / '(1,)type'.\n",
      "  _np_quint8 = np.dtype([(\"quint8\", np.uint8, 1)])\n",
      "Q:\\anaconda\\envs\\myEnv\\lib\\site-packages\\tensorflow\\python\\framework\\dtypes.py:528: FutureWarning: Passing (type, 1) or '1type' as a synonym of type is deprecated; in a future version of numpy, it will be understood as (type, (1,)) / '(1,)type'.\n",
      "  _np_qint16 = np.dtype([(\"qint16\", np.int16, 1)])\n",
      "Q:\\anaconda\\envs\\myEnv\\lib\\site-packages\\tensorflow\\python\\framework\\dtypes.py:529: FutureWarning: Passing (type, 1) or '1type' as a synonym of type is deprecated; in a future version of numpy, it will be understood as (type, (1,)) / '(1,)type'.\n",
      "  _np_quint16 = np.dtype([(\"quint16\", np.uint16, 1)])\n",
      "Q:\\anaconda\\envs\\myEnv\\lib\\site-packages\\tensorflow\\python\\framework\\dtypes.py:530: FutureWarning: Passing (type, 1) or '1type' as a synonym of type is deprecated; in a future version of numpy, it will be understood as (type, (1,)) / '(1,)type'.\n",
      "  _np_qint32 = np.dtype([(\"qint32\", np.int32, 1)])\n",
      "Q:\\anaconda\\envs\\myEnv\\lib\\site-packages\\tensorflow\\python\\framework\\dtypes.py:535: FutureWarning: Passing (type, 1) or '1type' as a synonym of type is deprecated; in a future version of numpy, it will be understood as (type, (1,)) / '(1,)type'.\n",
      "  np_resource = np.dtype([(\"resource\", np.ubyte, 1)])\n"
     ]
    },
    {
     "name": "stdout",
     "output_type": "stream",
     "text": [
      "Wall time: 48.9 s\n"
     ]
    }
   ],
   "source": [
    "%%time\n",
    "import sys\n",
    "import pandas as pd\n",
    "from collections import defaultdict\n",
    "import spacy\n",
    "from spacy.matcher import PhraseMatcher\n",
    "import math   \n",
    "from spacy.util import minibatch , compounding, decaying\n",
    "import random\n",
    "import torch\n",
    "import numpy as np\n",
    "from progressbar import ProgressBar, Bar, Percentage\n",
    "from sklearn.metrics import roc_auc_score\n",
    "from os import listdir\n",
    "from os.path import isfile, join\n",
    "from sklearn.utils import shuffle\n",
    "from sklearn.model_selection import train_test_split\n",
    "from spacy_transformers.util import cyclic_triangular_rate\n",
    "from thinc.neural.optimizers import Adam\n",
    "from thinc.neural import Model\n",
    "import matplotlib.pyplot as plt"
   ]
  },
  {
   "cell_type": "code",
   "execution_count": 2,
   "metadata": {},
   "outputs": [
    {
     "name": "stdout",
     "output_type": "stream",
     "text": [
      "doing:  lPunctNumStopLemOovAgg.csv\n",
      "           author                                          subreddit  \\\n",
      "0          -Jared                       starwars askreddit pics tall   \n",
      "1         -Peeter                                             gainit   \n",
      "2        -evasian  mousereview askreddit mechanicalkeyboards jail...   \n",
      "3         -rubiks                                    askwomen askmen   \n",
      "4  -true_neutral-                    todayilearned mildlyinteresting   \n",
      "\n",
      "                                                body  \n",
      "0  neil diamond sweet caroline chiropractor go re...  \n",
      "1                                           read faq  \n",
      "2  receive deathadder black edition yesterday try...  \n",
      "3  best monkey d haight floyd great gig bank like...  \n",
      "4  gt urban ear different pair month different pr...  \n",
      "len(train_data_full) before elimitating empties =  5000 train_data_full.loc[0,'body'] =  starwars askreddit pics tall neil diamond sweet caroline chiropractor go religiously age extreme low pain run track cross country important remember somewhat slow process worth result oh not worry not crack adjustment look like pattern envelope middle school photo come bad motivator want spell time beat hangover like bacon better taylor ham egg easy toast hash browns think mean taylor ham not matter damn delicious\n",
      "len(train_data_full) after elimitating empties =  5000\n",
      "creating gender...\n",
      "len(gender) =  5000\n",
      "gender created. Adding subreddits...\n",
      "populating gender list...\n",
      "gender list polulated. Creating n_words column for future use...\n",
      "split =  1349\n",
      "len(train_texts) =  2698\n",
      "len(train_data) =  2698\n"
     ]
    },
    {
     "name": "stderr",
     "output_type": "stream",
     "text": [
      "  0%|                                                                         |\r"
     ]
    },
    {
     "name": "stdout",
     "output_type": "stream",
     "text": [
      "random seeds set\n",
      "strings and lists initialized\n",
      "pipe_exceptions defined\n",
      "other_pipes defined\n",
      "data shuffled\n",
      "batches created\n"
     ]
    },
    {
     "name": "stderr",
     "output_type": "stream",
     "text": [
      "100%|#########################################################################|\n",
      "  0%|                                                                         |\r"
     ]
    },
    {
     "name": "stdout",
     "output_type": "stream",
     "text": [
      "i =  555\n",
      "data shuffled\n",
      "batches created\n"
     ]
    },
    {
     "name": "stderr",
     "output_type": "stream",
     "text": [
      "100%|#########################################################################|\n",
      "  0%|                                                                         |\r"
     ]
    },
    {
     "name": "stdout",
     "output_type": "stream",
     "text": [
      "i =  555\n",
      "data shuffled\n",
      "batches created\n"
     ]
    },
    {
     "name": "stderr",
     "output_type": "stream",
     "text": [
      "100%|#########################################################################|\n",
      "  0%|                                                                         |\r"
     ]
    },
    {
     "name": "stdout",
     "output_type": "stream",
     "text": [
      "i =  555\n",
      "data shuffled\n",
      "batches created\n"
     ]
    },
    {
     "name": "stderr",
     "output_type": "stream",
     "text": [
      "100%|#########################################################################|\n",
      "  0%|                                                                         |\r"
     ]
    },
    {
     "name": "stdout",
     "output_type": "stream",
     "text": [
      "i =  555\n",
      "data shuffled\n",
      "batches created\n"
     ]
    },
    {
     "name": "stderr",
     "output_type": "stream",
     "text": [
      "100%|#########################################################################|\n",
      "  0%|                                                                         |\r"
     ]
    },
    {
     "name": "stdout",
     "output_type": "stream",
     "text": [
      "i =  555\n",
      "data shuffled\n",
      "batches created\n"
     ]
    },
    {
     "name": "stderr",
     "output_type": "stream",
     "text": [
      "100%|#########################################################################|\n",
      "  0%|                                                                         |\r"
     ]
    },
    {
     "name": "stdout",
     "output_type": "stream",
     "text": [
      "i =  555\n",
      "data shuffled\n",
      "batches created\n"
     ]
    },
    {
     "name": "stderr",
     "output_type": "stream",
     "text": [
      "100%|#########################################################################|\n",
      "  0%|                                                                         |\r"
     ]
    },
    {
     "name": "stdout",
     "output_type": "stream",
     "text": [
      "i =  555\n",
      "data shuffled\n",
      "batches created\n"
     ]
    },
    {
     "name": "stderr",
     "output_type": "stream",
     "text": [
      "100%|#########################################################################|\n",
      "  0%|                                                                         |\r"
     ]
    },
    {
     "name": "stdout",
     "output_type": "stream",
     "text": [
      "i =  555\n",
      "data shuffled\n",
      "batches created\n"
     ]
    },
    {
     "name": "stderr",
     "output_type": "stream",
     "text": [
      "100%|#########################################################################|\n",
      "  0%|                                                                         |\r"
     ]
    },
    {
     "name": "stdout",
     "output_type": "stream",
     "text": [
      "i =  555\n",
      "data shuffled\n",
      "batches created\n"
     ]
    },
    {
     "name": "stderr",
     "output_type": "stream",
     "text": [
      "100%|#########################################################################|\n",
      "  0%|                                                                         |\r"
     ]
    },
    {
     "name": "stdout",
     "output_type": "stream",
     "text": [
      "i =  555\n",
      "data shuffled\n",
      "batches created\n"
     ]
    },
    {
     "name": "stderr",
     "output_type": "stream",
     "text": [
      "100%|#########################################################################|\n",
      "  0%|                                                                         |\r"
     ]
    },
    {
     "name": "stdout",
     "output_type": "stream",
     "text": [
      "i =  555\n",
      "data shuffled\n",
      "batches created\n"
     ]
    },
    {
     "name": "stderr",
     "output_type": "stream",
     "text": [
      "100%|#########################################################################|\n",
      "  0%|                                                                         |\r"
     ]
    },
    {
     "name": "stdout",
     "output_type": "stream",
     "text": [
      "i =  555\n",
      "data shuffled\n",
      "batches created\n"
     ]
    },
    {
     "name": "stderr",
     "output_type": "stream",
     "text": [
      "100%|#########################################################################|\n",
      "  0%|                                                                         |\r"
     ]
    },
    {
     "name": "stdout",
     "output_type": "stream",
     "text": [
      "i =  555\n",
      "data shuffled\n",
      "batches created\n"
     ]
    },
    {
     "name": "stderr",
     "output_type": "stream",
     "text": [
      "100%|#########################################################################|\n",
      "  0%|                                                                         |\r"
     ]
    },
    {
     "name": "stdout",
     "output_type": "stream",
     "text": [
      "i =  555\n",
      "data shuffled\n",
      "batches created\n"
     ]
    },
    {
     "name": "stderr",
     "output_type": "stream",
     "text": [
      "100%|#########################################################################|\r"
     ]
    },
    {
     "name": "stdout",
     "output_type": "stream",
     "text": [
      "i =  555\n",
      "Wall time: 46min 56s\n"
     ]
    },
    {
     "name": "stderr",
     "output_type": "stream",
     "text": [
      "\n"
     ]
    }
   ],
   "source": [
    "%%time\n",
    "\n",
    "\n",
    "train_target_full = pd.read_csv(\"train_target.csv\")\n",
    "\n",
    "\n",
    "\n",
    "# this part enables lPunctAgg lemmatization.\n",
    "path = r\"csv\"\n",
    "files = listdir(path)\n",
    "files = [f for f in files if \"Agg\" in f and not \".npy\" in f]\n",
    "files = [\"lPunctNumStopLemOovAgg.csv\"]\n",
    "for f in files:\n",
    "    print(\"doing: \", f)\n",
    "    #lemmed = lPunctAgg\n",
    "    train_data_full = pd.read_csv(path+\"\\\\\"+f)\n",
    "    print(train_data_full.head(5))\n",
    "    train_data_full[\"body\"] = train_data_full[\"subreddit\"]+\" \"+train_data_full[\"body\"]\n",
    "    # print(\"dropping subreddits and utc\")\n",
    "    train_data_full.drop([\"subreddit\"], axis = 1, inplace = True)\n",
    "    print(\"len(train_data_full) before elimitating empties = \",len(train_data_full), \"train_data_full.loc[0,'body'] = \", train_data_full.loc[0,'body'])\n",
    "    # enable following line to exclude rows with less than 4 words\n",
    "    #train_data_full = train_data_full[train_data_full.body.count(\" \") >3]\n",
    "    #if f == \"lPunctNumAgg.csv\":\n",
    "    train_data_full.replace(to_replace = \"empty\", value = \"\", inplace = True)\n",
    "    #train_data_full = train_data_full[train_data_full.body != \"empty\"]\n",
    "    #train_data_full = train_data_full.dropna()\n",
    "    train_data_full[\"body\"].fillna(\"\",inplace = True)\n",
    "    train_data_full.reset_index(drop  = True, inplace = True)\n",
    "    print(\"len(train_data_full) after elimitating empties = \",len(train_data_full))\n",
    "    print(\"creating gender...\")\n",
    "\n",
    "    ###### end of the part to be commented to avoid lPunctAgg lemmatization\n",
    "\n",
    "\n",
    "    # common part to all procedures. This should never be commented\n",
    "\n",
    "    gender = [0 for i in range(len(train_data_full))]\n",
    "    print(\"len(gender) = \", len(gender))\n",
    "    # for idx, row in train_data_full.iterrows():\n",
    "    #     gender.append(train_target_full[train_target_full[\"author\"] == row.author].iloc[0,1])\n",
    "    print(\"gender created. Adding subreddits...\")\n",
    "\n",
    "\n",
    "    print(\"populating gender list...\")\n",
    "    for idx, row in train_target_full.iterrows():\n",
    "        if row.gender == 1:\n",
    "            #print(\"inside th if\")\n",
    "            indexes = train_data_full.index[train_data_full[\"author\"] == row.author].tolist()\n",
    "            for i in indexes:\n",
    "                #print(\"inside the for\")\n",
    "                gender[i] += 1\n",
    "    print(\"gender list polulated. Creating n_words column for future use...\")\n",
    "    #print(fake_gender)\n",
    "    if(len(np.unique(gender) == 2)):\n",
    "        train_data_full[\"gender\"] = gender\n",
    "    else:\n",
    "        print(\"there has been an error with gender recognition, please halt the program now\")\n",
    "\n",
    "    ### end of the common part\n",
    "\n",
    "    # useless part\n",
    "\n",
    "    #print(\"gender list polulated. Creating n_words column for future use...\")\n",
    "    #train_data_full_sg = train_data_full.sort_values([\"gender\"])\n",
    "    #train_data_full_sg.reset_index(inplace = True)\n",
    "\n",
    "    #train_data_full[\"n_words\"] = [tex.count(\" \") for tex in train_data_full[\"body\"].tolist()]\n",
    "    # #rand = random.shuffle([True for t in range(split)]+[False for u in range(len(train))])\n",
    "\n",
    "\n",
    "    # end of useless part\n",
    "\n",
    "    # this is the balanced part\n",
    "\n",
    "    train_data_full_m = train_data_full.loc[train_data_full[\"gender\"] == 0, :]\n",
    "    train_data_full_f = train_data_full.loc[train_data_full[\"gender\"] == 1, :]\n",
    "\n",
    "    split = math.floor(len(train_data_full_f)*1)\n",
    "    \n",
    "    print(\"split = \",split)\n",
    "\n",
    "\n",
    "    seed = 100\n",
    "    train_data_sample_m =  train_data_full_m.sample(n = split, random_state = seed)\n",
    "    train_texts_m =train_data_sample_m[\"body\"].tolist()\n",
    "    #test_data_sample_m = train_data_full_m.drop(train_data_sample_m.index)\n",
    "    #test_texts_m = test_data_sample_m[\"body\"].tolist()\n",
    "\n",
    "    train_data_sample_f =  train_data_full_f.sample(n = split, random_state = seed)\n",
    "    train_texts_f = train_data_sample_f[\"body\"].tolist()\n",
    "    #test_data_sample_f = train_data_full_f.drop(train_data_sample_f.index)\n",
    "    #test_texts_f = test_data_sample_f[\"body\"].tolist()\n",
    "\n",
    "    train_texts = train_texts_m + train_texts_f\n",
    "    #test_texts = test_texts_m + test_texts_f\n",
    "\n",
    "    train_labels = [{'cats': {'1': False, '0': True}} for i in range(split)] + [{'cats': {'1': True, '0': False}} for i in range(split)]\n",
    "    #test_labels = [0 for i in range(len(train_data_full_m)-split)] + [1 for i in range(len(train_data_full_f)-split)]\n",
    "\n",
    "    #train_labels_reg = [0 for i in range(split)] + [1 for j in range(split)]\n",
    "\n",
    "    #train_texts , train_labels_reg = shuffle(train_texts , train_labels_reg , random_state = 0)\n",
    "\n",
    "    # end of balanced part\n",
    "\n",
    "    # unbalanced part\n",
    "\n",
    "#     seed = 100\n",
    "#     split = math.floor(len(train_data_full)*0.8)\n",
    "#     print(\"split = \",split)\n",
    "\n",
    "    #train_df = train_data_full\n",
    "    #test_df = train_data_full.drop(train_df.index)\n",
    "\n",
    "    #train_texts  = train_df[\"body\"].tolist()\n",
    "    #test_texts =  test_df[\"body\"].tolist()\n",
    "\n",
    "#     train_labels = [{'cats': {'1': label == 1,'0': label == 0}} for label in train_df[\"gender\"].tolist()]\n",
    "    #test_labels = [i for i in test_df[\"gender\"].tolist()]  #[0 for i in range(len(train_data_full_m)-split)] + [1 for i in range(len(train_data_full_f)-split)]\n",
    "\n",
    "#     # end of unbalanced part\n",
    "\n",
    "\n",
    "#     # common part to all approaches : do not comment\n",
    "\n",
    "    print(\"len(train_texts) = \",len(train_texts))\n",
    "\n",
    "\n",
    "\n",
    "    train_data  = list(zip(train_texts, train_labels))\n",
    "    #print(\"len(test_texts) == len(test_labels) : \", len(test_texts) == len(test_labels) )\n",
    "    print(\"len(train_data) = \",len(train_data))\n",
    "\n",
    "    # end of common part to all approaches\n",
    "\n",
    "\n",
    "    # carica un learner che parla inglese\n",
    "    nlp = spacy.blank(\"en\")\n",
    "\n",
    "    # Create the TextCategorizer with exclusive classes and \"bow\" (bag of words) architecture.\n",
    "    if 'textcat' not in nlp.pipe_names:\n",
    "        textcat = nlp.create_pipe(\n",
    "                      \"textcat\",\n",
    "                      config={\"exclusive_classes\": True, \"architecture\": \"ensemble\"}) #https://github.com/explosion/spaCy/issues/3611 #, \"n_gram_size\" : 2, \"attr\": \"lower\"  #\"softmax_last_hidden\"\n",
    "        nlp.add_pipe(textcat)\n",
    "    else:\n",
    "        textcat = nlp.get_pipe('textcat')\n",
    "\n",
    "    # create labels (do they coomute)\n",
    "    textcat.add_label(\"1\")\n",
    "    textcat.add_label(\"0\")\n",
    "\n",
    "\n",
    "    # add the textcat to the spacy pipe\n",
    "\n",
    "    #nlp.add_pipe(textcat)\n",
    "\n",
    "\n",
    "    # %%time\n",
    "\n",
    "    random.seed(1)\n",
    "    spacy.util.fix_random_seed(1)\n",
    "\n",
    "    # write it otherwise it is not happy\n",
    "    nlp.vocab.vectors.name = 'spacy_pretrained_vectors'\n",
    "\n",
    "    # speaks for itself\n",
    "    print(\"random seeds set\")\n",
    "    name = f.replace(\".csv\",\"\")\n",
    "    losses = {}\n",
    "    rocs = []\n",
    "    run_title = \"bow_bal_\"+name\n",
    "    output = \"\"\n",
    "\n",
    "    print(\"strings and lists initialized\")\n",
    "    dec = decaying(0.2 , 0.0, 2e-4)\n",
    "\n",
    "    #learning process\n",
    "    #for batch_size in [10, 50, 100, 200, 300] : \n",
    "    pipe_exceptions = ['textcat'] #(\"trf_wordpiecer\", \"trf_tok2vec) are required, #https://github.com/explosion/spaCy/blob/master/examples/training/train_textcat.py\n",
    "    print(\"pipe_exceptions defined\")\n",
    "    other_pipes = [pipe for pipe in nlp.pipe_names if pipe not in pipe_exceptions]\n",
    "    print(\"other_pipes defined\")\n",
    "    with nlp.disable_pipes(*other_pipes):  # only train textcat\n",
    "        optimizer = nlp.begin_training()\n",
    "#         batch_size  = 4\n",
    "#         learn_rate = 0.001 #0.0005\n",
    "#         learn_rates = cyclic_triangular_rate(learn_rate / 3, learn_rate * 3, 2 * len(train_data) // batch_size)\n",
    "#         nlp.begin_training()\n",
    "#         ops = Model.ops\n",
    "#         beta1 = 0.9 #0.9\n",
    "#         beta2 = 0.999 #0.999\n",
    "#         eps = 1e-10 #1e-8\n",
    "#         L2 = 0.0 #1e-6\n",
    "#         max_grad_norm = 1 #1.0\n",
    "#         optimizer = Adam(ops, learn_rate, L2=L2, beta1=beta1, beta2=beta2, eps=eps)\n",
    "#         optimizer.max_grad_norm = max_grad_norm\n",
    "#         optimizer.device = ops.device\n",
    "        for epoch in range(15):\n",
    "            random.shuffle(train_data)\n",
    "            print(\"data shuffled\")\n",
    "            # Create the batch generator with batch size = 8\n",
    "            #optimizer.learn_rate = float(next(learn_rates))\n",
    "            batches = minibatch(train_data, size = compounding(4., 32., 1.001) )  #batch_size\n",
    "            print(\"batches created\")\n",
    "            # Iterate through minibatches\n",
    "            pbar = ProgressBar(widgets=[Percentage(), Bar()], maxval=556).start()  #8387 is the total number of iterations needed for an unbalanced 0.8 trainset. 0.04 of unbalanced would be approx 1540 . 4595 for lemmatized balanced. 8420 for lemmatized unbalanced\n",
    "            i = 0                                                                    # 737 for lPunctAgg and lPunctNumAgg unbalanced, 466 for balanced\n",
    "            for batch in batches:\n",
    "                # Each batch is a list of (text, label) but we need to\n",
    "                # send separate lists for texts and labels to update().\n",
    "                # This is a quick way to split a list of tuples into lists\n",
    "                texts1, labels = zip(*batch)\n",
    "                # print(\"updating\")\n",
    "                #print(\"len(texts1) = \",len(texts1), \"len(labels) = \",len(labels), \"texts1 =\", texts1, \"labels = \", labels  )\n",
    "                nlp.update(texts1, labels, sgd=optimizer, losses=losses, drop = next(dec))\n",
    "                i += 1\n",
    "                pbar.update(i)\n",
    "            pbar.finish()\n",
    "            print(\"i = \",  i)\n",
    "#                 rocs.append(evaluate_roc(nlp, textcat))\n",
    "#                 output += f\"    epoch = {epoch}, losses = {losses}, roc = {rocs[-1]} \\n \"\n",
    "#                 print( \"epoch = \",epoch,\" losses = \", losses, \"roc = \" , rocs[-1] , \"i = \", i)\n",
    "    \n",
    "    \n",
    "#     docs = [nlp.tokenizer(tex) for tex in test_texts]\n",
    "#     #textcat = nlp.get_pipe(\"textcat\")\n",
    "#     scores , a = textcat.predict(docs) \n",
    "#     pred_y= [b[0] for b in scores] #[1 if b[0] > b[1] else 0 for b in scores]\n",
    "#     roc = roc_auc_score(test_labels, y_pred)\n",
    "#     print(roc)\n",
    "    \n",
    "\n",
    "\n",
    "#     df_res = pd.DataFrame({\"author\": test_df[\"author\"].tolist(), \"pred_y\" : y_pred, \"true_y\" : test_labels  })\n",
    "#     df_res.to_csv (r'Q:\\tooBigToDrive\\data-mining\\kaggle\\my_models\\spaCy\\results\\finals\\csv\\bodies.csv', index = False, header=True)\n",
    "#     with textcat.model.use_params(optimizer.averages):\n",
    "#         nlp.to_disk(r'Q:\\tooBigToDrive\\data-mining\\kaggle\\my_models\\spaCy\\savedModels\\bodieswS_bal')  \n",
    "\n",
    "\n"
   ]
  },
  {
   "cell_type": "code",
   "execution_count": 3,
   "metadata": {},
   "outputs": [
    {
     "name": "stdout",
     "output_type": "stream",
     "text": [
      "loaded nlp\n",
      "obtained textcat\n"
     ]
    },
    {
     "name": "stderr",
     "output_type": "stream",
     "text": [
      "  0%|                                                                         |\r"
     ]
    },
    {
     "name": "stdout",
     "output_type": "stream",
     "text": [
      "loaded df\n",
      "<class 'pandas.core.series.Series'> 15000\n",
      "15000 insightfulquestions glasgow youshouldknow iama askreddit britishproblems get master degree exactly unexpected positive come lose hearing glass half hi brownish pubis bright blonde eyebrow be sure relevant hear earn £ happy go k k year notice huge change life style afford nice thing happy not drastic change clearly millionaire buy nice car huge house not happy person k accord theory say shite go make million comparatively measly ki suppose relative make comment kind redundant oh look play pie pint think oran mor big converted church west end near botanic garden week fortnight pie pint beer whilst watch local play £ token black man group friend\n"
     ]
    },
    {
     "name": "stderr",
     "output_type": "stream",
     "text": [
      "100%|#########################################################################|\n",
      "  0%|                                                                         |\r"
     ]
    },
    {
     "name": "stdout",
     "output_type": "stream",
     "text": [
      "docs done 15000\n"
     ]
    },
    {
     "name": "stderr",
     "output_type": "stream",
     "text": [
      "100%|#########################################################################|\n"
     ]
    },
    {
     "name": "stdout",
     "output_type": "stream",
     "text": [
      "done\n",
      "[[1.0557201e-04 9.9989438e-01]]\n",
      "0.00010557201\n",
      "           author    pred_y\n",
      "0    --redbeard--  0.000106\n",
      "1       -Allaina-  0.800658\n",
      "2  -AllonsyAlonso  0.117949\n",
      "3          -Beth-  0.600263\n",
      "4        -Greeny-  0.938785\n"
     ]
    }
   ],
   "source": [
    "#nlp = spacy.load(r'Q:\\tooBigToDrive\\data-mining\\kaggle\\my_models\\spaCy\\savedModels\\bodieswS_bal')\n",
    "print(\"loaded nlp\")\n",
    "textcat = nlp.get_pipe(\"textcat\")\n",
    "print(\"obtained textcat\")\n",
    "df = pd.read_csv(r\"Q:\\tooBigToDrive\\data-mining\\kaggle\\my_models\\spaCy\\results\\finals\\csv\\test\\\\\"+\"lPunctNumStopLemOovAggTest.csv\")\n",
    "print(\"loaded df\")\n",
    "series = df[\"subreddit\"]+\" \"+df[\"body\"] \n",
    "print(type(series), len(series))\n",
    "l = series.values\n",
    "print(len(l), l[0])\n",
    "docs = [] #nlp.tokenizer(str(tex)) for tex in l\n",
    "pbar = ProgressBar(widgets=[Percentage(), Bar()], maxval=len(l)).start()\n",
    "i = 0\n",
    "for tex in l:\n",
    "    docs.append(nlp.tokenizer(str(tex)))\n",
    "    i += 1\n",
    "    pbar.update(i)\n",
    "pbar.finish()\n",
    "print(\"docs done\", len(docs))\n",
    "pbar = ProgressBar(widgets=[Percentage(), Bar()], maxval=len(docs)).start()\n",
    "# scores, a = textcat.predict(docs)\n",
    "i = 0\n",
    "scores = []\n",
    "for doc in docs:\n",
    "    scores.append(textcat.predict([doc])[0])\n",
    "    i += 1\n",
    "    pbar.update(i)\n",
    "pbar.finish()\n",
    "print(\"done\")\n",
    "print(scores[0])\n",
    "pred_y = [v[0][0] for v in scores]\n",
    "print(pred_y[0])\n",
    "bodieswS_test_predictions = pd.DataFrame({\"author\": df[\"author\"].tolist(), \"pred_y\": pred_y})\n",
    "print(bodieswS_test_predictions.head(5))\n",
    "\n",
    "\n",
    "\n",
    "bodieswS_test_predictions.to_csv(r\"Q:\\tooBigToDrive\\data-mining\\kaggle\\my_models\\spaCy\\results\\finals\\csv\\test\\bodieswS_bal_test_predictions\")"
   ]
  },
  {
   "cell_type": "code",
   "execution_count": 4,
   "metadata": {},
   "outputs": [
    {
     "data": {
      "image/png": "[encoded data removed]",
      "text/plain": [
       "<Figure size 432x288 with 1 Axes>"
      ]
     },
     "metadata": {
      "needs_background": "light"
     },
     "output_type": "display_data"
    }
   ],
   "source": [
    "name = \"ensemble_balanced_e15_wS\"\n",
    "plt.hist(pred_y, bins=\"auto\")\n",
    "plt.title(name)\n",
    "plt.savefig(r\"\\images\\\\\"+name+\".png\")\n",
    "plt.show()"
   ]
  }
 ],
 "metadata": {
  "kernelspec": {
   "display_name": "Python [conda env:myEnv]",
   "language": "python",
   "name": "conda-env-myEnv-py"
  },
  "language_info": {
   "codemirror_mode": {
    "name": "ipython",
    "version": 3
   },
   "file_extension": ".py",
   "mimetype": "text/x-python",
   "name": "python",
   "nbconvert_exporter": "python",
   "pygments_lexer": "ipython3",
   "version": "3.7.6"
  }
 },
 "nbformat": 4,
 "nbformat_minor": 4
}
