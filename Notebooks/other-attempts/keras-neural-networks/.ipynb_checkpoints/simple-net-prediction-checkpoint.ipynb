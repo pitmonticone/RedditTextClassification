{
 "cells": [
  {
   "cell_type": "code",
   "execution_count": 6,
   "metadata": {},
   "outputs": [
    {
     "name": "stdout",
     "output_type": "stream",
     "text": [
      "[name: \"/device:CPU:0\"\n",
      "device_type: \"CPU\"\n",
      "memory_limit: 268435456\n",
      "locality {\n",
      "}\n",
      "incarnation: 1331614535948791056\n",
      ", name: \"/device:GPU:0\"\n",
      "device_type: \"GPU\"\n",
      "memory_limit: 7473294746\n",
      "locality {\n",
      "  bus_id: 1\n",
      "  links {\n",
      "  }\n",
      "}\n",
      "incarnation: 17851818086571483571\n",
      "physical_device_desc: \"device: 0, name: GeForce GTX 1070, pci bus id: 0000:01:00.0, compute capability: 6.1\"\n",
      "]\n",
      "2.3.1\n",
      "Wall time: 1.1 s\n"
     ]
    }
   ],
   "source": [
    "%%time\n",
    "#print(\"1\")\n",
    "import tensorflow as tf\n",
    "from numba import cuda\n",
    "from tensorflow.python.client import device_lib\n",
    "print(device_lib.list_local_devices())\n",
    "from keras.preprocessing.sequence import pad_sequences\n",
    "#print(\"2\")\n",
    "from sklearn.feature_extraction.text import TfidfVectorizer\n",
    "from sklearn.preprocessing import StandardScaler\n",
    "import pickle\n",
    "from keras.layers import Dense, Input, Dropout\n",
    "#print(\"3\")\n",
    "from keras import Sequential\n",
    "#print(\"4\")\n",
    "from sklearn.preprocessing import StandardScaler\n",
    "from tensorflow.keras.callbacks import EarlyStopping\n",
    "import matplotlib.pyplot as plt\n",
    "import keras\n",
    "print(keras.__version__)\n",
    "from sklearn.model_selection import train_test_split\n",
    "from keras.constraints import maxnorm\n",
    "import numpy as np"
   ]
  },
  {
   "cell_type": "code",
   "execution_count": 7,
   "metadata": {},
   "outputs": [
    {
     "name": "stdout",
     "output_type": "stream",
     "text": [
      "training tfidf and tranforming\n",
      "vocab_size =  120536\n",
      "padding\n",
      "done\n",
      "Wall time: 1min 50s\n"
     ]
    }
   ],
   "source": [
    "%%time\n",
    "\n",
    "with open(r\"comments.txt\", \"rb\") as f:\n",
    "    clean_train_comments = pickle.load(f) \n",
    "    f.close()\n",
    "\n",
    "with open(r\"targets.txt\", \"rb\") as ft:\n",
    "    y= pickle.load(ft) \n",
    "    ft.close()\n",
    "\n",
    "    \n",
    "y = [int(s) for s in y]\n",
    "\n",
    "\n",
    "\n",
    "#tfidf vectorization\n",
    "tfidf = TfidfVectorizer(sublinear_tf=True, min_df=5,\n",
    "                        ngram_range=(1, 2), \n",
    "                        stop_words='english')\n",
    "\n",
    "# We transform each complaint into a vector\n",
    "print(\"training tfidf and tranforming\")\n",
    "X = tfidf.fit_transform(clean_train_comments).toarray() #clean-train_comments # as this: https://stats.stackexchange.com/questions/154660/tfidfvectorizer-should-it-be-used-on-train-only-or-traintest   and this: https://stackoverflow.com/questions/47778403/computing-tf-idf-on-the-whole-dataset-or-only-on-training-data suggest,train tfidf only on training set\n",
    "vocab_size = len(tfidf.vocabulary_) + 1\n",
    "print(\"vocab_size = \", vocab_size)\n",
    "# evaluate max len train data\n",
    "maxlen = max([len(x) for x in X])\n",
    "# pad train data accordingly\n",
    "print(\"padding\")\n",
    "X_pad =  pad_sequences(X, padding='post', maxlen=maxlen, dtype='float32') \n",
    "\n",
    "print(\"done\")"
   ]
  },
  {
   "cell_type": "code",
   "execution_count": 8,
   "metadata": {},
   "outputs": [],
   "source": [
    "# Define the models.\n",
    "\n",
    "def model0():  # from https://medium.com/@am.benatmane/keras-hyperparameter-tuning-using-sklearn-pipelines-grid-search-with-cross-validation-ccfc74b0ce9f\n",
    "\n",
    "    METRICS = [ \n",
    "          tf.keras.metrics.BinaryAccuracy(name='accuracy'),\n",
    "          tf.keras.metrics.AUC(name='auc'),\n",
    "    ]\n",
    "\n",
    "    optimizer=\"Adamax\" #\"adam\"\n",
    "    dropout=0.1 #0.1\n",
    "    init='uniform'\n",
    "    nbr_features= vocab_size-1 #2500\n",
    "    dense_nparams=256\n",
    "\n",
    "    model = Sequential()\n",
    "    model.add(Dense(dense_nparams, activation='softsign', input_shape=(nbr_features,), kernel_initializer=init,  kernel_constraint=maxnorm(3))) # maxnorm(0) & softmax & sigmoid -> 0.89 # maxnorm(0) & softmax & softmax -> 0.5  maxnorm(2) & relu & sigmoid ->0.92  maxnorm(1) & relu & sigmoid ->0.82\n",
    "    model.add(Dropout(dropout))\n",
    "    model.add(Dense(1, activation='sigmoid')) # relu & \"softmax\" fa 0.5-> non va bene  #' relu & softplus' -> 0.75 #'sigmoid'\n",
    "    model.compile(loss='binary_crossentropy', optimizer=optimizer,metrics = METRICS)\n",
    "    return model\n",
    "    "
   ]
  },
  {
   "cell_type": "code",
   "execution_count": 9,
   "metadata": {},
   "outputs": [
    {
     "name": "stdout",
     "output_type": "stream",
     "text": [
      "Epoch 1/3\n",
      "Epoch 2/3\n",
      "Epoch 3/3\n"
     ]
    }
   ],
   "source": [
    "\n",
    "model = model0()\n",
    "\n",
    "history = model.fit(x=X_pad, y=y, batch_size = 8, epochs = 3, verbose=10, shuffle=True, max_queue_size=10, workers=4, use_multiprocessing=True) #, callbacks=callbacks , validation_split=0.2\n",
    "\n",
    "# reset gpu memory https://stackoverflow.com/a/60354785/13110508 (but be warned: it crashes python, so use it just at the end)\n",
    "# device = cuda.get_current_device()\n",
    "# device.reset()"
   ]
  },
  {
   "cell_type": "code",
   "execution_count": 10,
   "metadata": {},
   "outputs": [],
   "source": [
    "import pandas as pd\n",
    "with open(r\"comments_test.txt\", \"rb\") as f:\n",
    "    clean_test_comments = pickle.load(f) \n",
    "    f.close()\n",
    "    \n",
    "    \n",
    "X_test = tfidf.transform(clean_test_comments).toarray()\n",
    "maxlen_test = max([len(x) for x in X_test])\n",
    "X_test_pad = pad_sequences(X_test, padding='post', maxlen=maxlen, dtype='float32')\n",
    "#X_test_pad_scal = scaler.transform(X_test_pad)\n",
    "\n",
    "y_pred = model.predict_proba(X_test_pad)\n",
    "y_pred_unp = [y_pred[i][0] for i in range(len(y_pred))]\n",
    "with open(r\"authors_test.txt\", \"rb\") as f:\n",
    "    authors = pickle.load(f) \n",
    "    f.close()\n",
    "    \n",
    "solution = pd.DataFrame({\"author\":authors, \"gender\":y_pred_unp})\n",
    "\n",
    "solution.to_csv(r\"Q:\\tooBigToDrive\\data-mining\\kaggle\\data\\challengedadata\\solutions\\simpleNetNoScalProbaGridD0_sol.csv\",index = False)"
   ]
  }
 ],
 "metadata": {
  "kernelspec": {
   "display_name": "Python 3",
   "language": "python",
   "name": "python3"
  },
  "language_info": {
   "codemirror_mode": {
    "name": "ipython",
    "version": 3
   },
   "file_extension": ".py",
   "mimetype": "text/x-python",
   "name": "python",
   "nbconvert_exporter": "python",
   "pygments_lexer": "ipython3",
   "version": "3.7.4"
  }
 },
 "nbformat": 4,
 "nbformat_minor": 4
}
