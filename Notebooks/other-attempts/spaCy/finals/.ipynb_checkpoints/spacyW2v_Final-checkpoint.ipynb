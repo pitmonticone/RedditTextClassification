{
 "cells": [
  {
   "cell_type": "code",
   "execution_count": 1,
   "metadata": {
    "_cell_guid": "b1076dfc-b9ad-4769-8c92-a6c4dae69d19",
    "_uuid": "8f2839f25d086af736a60e9eeb907d3b93b6e0e5"
   },
   "outputs": [],
   "source": [
    "from sklearn.preprocessing import StandardScaler # For scaling\n",
    "from sklearn.model_selection import train_test_split # for creating valid set and train set \n",
    "from sklearn.neural_network import MLPClassifier\n",
    "from sklearn.model_selection import KFold\n",
    "from sklearn.svm import SVC, LinearSVC\n",
    "import numpy as np\n",
    "import matplotlib.pyplot as plt\n",
    "from sklearn.metrics import roc_curve, auc\n",
    "import os\n",
    "from os import listdir\n",
    "from os.path import isfile, join\n",
    "from sklearn.decomposition import PCA\n",
    "import pandas as pd\n",
    "import math\n",
    "import joblib\n",
    "import numpy as np"
   ]
  },
  {
   "cell_type": "code",
   "execution_count": null,
   "metadata": {
    "_cell_guid": "79c7e3d0-c299-4dcb-8224-4455121ee9b0",
    "_uuid": "d629ff2d2480ee46fbb7e2d37f6b5fab8052498a"
   },
   "outputs": [],
   "source": [
    "y = np.load(\"../input/targets/targets.npy\").tolist()\n",
    "files = listdir(\"../input/subredditsnpy\")\n",
    "files = [f for f in files if f == \"lPunctNumStopLemOovAggsSub.npy\"]\n",
    "for f in files:\n",
    "    with open(\"spacyW2vMlp\" + \".txt\", \"a\") as file: #name\n",
    "        file.write(\"\\n \\n \"+ f.replace(\".npy\",\"\")+\"\\n \\n\")\n",
    "        file.close()\n",
    "    X = np.load(\"../input/subredditsnpy/\"+f)\n",
    "    pca = PCA(165)\n",
    "    pca.fit(X)\n",
    "    U = pca.transform(X)\n",
    "    U = U.tolist()\n",
    "    df = pd.DataFrame({\"vect\": U, \"true_y\": y})\n",
    "    print(\"df.head(5)  = \", df.head(5))\n",
    "    for i in range(1):\n",
    "        seed = 100\n",
    "        split = math.floor(len(df))\n",
    "        train_df = df.sample(split, random_state = 100)\n",
    "        x_train = np.array(train_df[\"vect\"].tolist())\n",
    "        print(\"x_train.shape = \", x_train.shape)\n",
    "\n",
    "        y_train = np.array(train_df[\"true_y\"].tolist())\n",
    "        print(\"y_train.shape = \", y_train.shape)\n",
    "\n",
    "\n",
    "        "
   ]
  },
  {
   "cell_type": "code",
   "execution_count": null,
   "metadata": {},
   "outputs": [],
   "source": [
    "joblib.dump(mlpClf , \"../working/spacyW2v.sav\")"
   ]
  },
  {
   "cell_type": "code",
   "execution_count": 2,
   "metadata": {},
   "outputs": [],
   "source": [
    "test_vectors = np.load(\"../input/w2vtest/W2vtest.npy\")"
   ]
  },
  {
   "cell_type": "code",
   "execution_count": 10,
   "metadata": {
    "collapsed": true,
    "jupyter": {
     "outputs_hidden": true
    }
   },
   "outputs": [
    {
     "name": "stdout",
     "output_type": "stream",
     "text": [
      "[-9.33299512e-02  6.87268302e-02 -1.85501009e-01 -1.52744092e-02\n",
      "  9.64002684e-02  2.18973239e-03  2.81878188e-02 -1.61456317e-01\n",
      " -2.81369779e-03  1.76219070e+00 -1.61828682e-01  3.54727395e-02\n",
      "  2.00116690e-02 -4.74175811e-02 -2.96986625e-02  1.33066392e-02\n",
      " -5.04788794e-02  8.80676150e-01 -1.12318821e-01  1.09426724e-02\n",
      "  7.67039657e-02  1.89694278e-02 -3.67663689e-02 -1.20565861e-01\n",
      " -4.11235020e-02  5.26757725e-02 -4.99840230e-02 -5.48350848e-02\n",
      "  1.44237027e-01 -3.25756893e-02 -1.17243819e-01  1.15422472e-01\n",
      " -2.26805974e-02  6.07078001e-02  1.63146093e-01 -5.30561097e-02\n",
      "  6.64052442e-02  1.64179578e-02 -8.91988948e-02 -1.17046207e-01\n",
      " -3.56939584e-02  8.17788206e-03 -8.18520635e-02 -4.94783781e-02\n",
      "  2.59302147e-02  1.74610186e-02 -7.32593611e-02  6.86840969e-04\n",
      "  5.73260635e-02  3.89605314e-02 -5.03193699e-02 -1.39927762e-02\n",
      "  3.33677977e-02 -9.27950889e-02  5.61406761e-02  1.07086137e-01\n",
      " -5.70565797e-02 -6.62643239e-02  8.64950716e-02 -5.51579669e-02\n",
      " -9.37162712e-02 -2.89235324e-01 -5.74002191e-02  1.50854483e-01\n",
      "  7.72735178e-02 -1.56568229e-01 -8.03372413e-02  1.05927862e-01\n",
      "  5.06459400e-02  1.57485381e-01  6.68351799e-02  3.39748971e-02\n",
      "  2.00080350e-01  3.61483544e-02  2.61411779e-02  1.14324003e-01\n",
      "  3.05249263e-02 -1.36568159e-01 -3.56096365e-02  1.55980766e-01\n",
      " -4.36254330e-02  1.86067931e-02 -9.95120108e-02 -3.18997540e-03\n",
      "  4.04730643e-04 -1.09130651e-01  3.63565624e-01  6.12098575e-02\n",
      "  2.07160190e-01 -1.28349848e-02 -4.46758233e-02 -3.00991070e-03\n",
      " -6.43304586e-02  6.93875998e-02  9.56583917e-02 -6.76708370e-02\n",
      " -2.40667965e-02 -4.00400795e-02 -1.26130693e-02 -7.70985149e-03\n",
      " -2.64224410e-02  4.05577272e-02  8.04861933e-02 -2.75837854e-02\n",
      "  1.37248769e-01 -7.62909949e-01  2.25445610e-02 -2.45323144e-02\n",
      " -9.03153569e-02  7.81145319e-02  4.02623825e-02 -2.14986697e-01\n",
      "  4.99352068e-02  2.01928932e-02  6.24263287e-02  1.36924600e-02\n",
      "  2.97340546e-02 -1.12764888e-01  6.95230719e-03  5.25744669e-02\n",
      "  9.23629329e-02 -8.88762176e-02 -3.61931510e-02 -2.38376148e-02\n",
      "  6.57263100e-02  1.07335784e-01 -4.02605645e-02 -1.18725128e-01\n",
      " -4.47058231e-02 -1.89768113e-02 -6.89281374e-02  8.50160897e-04\n",
      " -1.16590261e-01  7.26754665e-02  1.58924684e-01  4.70426157e-02\n",
      " -3.58720683e-02 -6.89055026e-02 -4.75252122e-02  4.50502662e-03\n",
      " -1.68573725e+00  1.14635624e-01  1.37441933e-01 -2.65053231e-02\n",
      " -1.14279538e-01 -1.95416659e-01 -2.38037743e-02 -1.90763548e-02\n",
      " -3.48214023e-02 -2.50599086e-02 -1.21858120e-01 -4.52873111e-03\n",
      " -1.34391904e-01 -1.05183661e-01  2.77336147e-02  3.10874879e-02\n",
      " -6.76481007e-03 -1.84491903e-01  1.47623634e-02 -8.87267068e-02\n",
      " -1.02177590e-01 -2.78442837e-02 -9.32575464e-02 -2.20048390e-02\n",
      " -1.79429445e-02 -1.88595444e-01 -7.02370703e-03 -6.74470365e-02\n",
      "  1.50352307e-02  1.82389729e-02 -1.13532744e-01 -5.05957529e-02\n",
      "  6.05006097e-03 -1.39266893e-01 -6.58603013e-02  4.11300771e-02\n",
      " -6.38520047e-02  1.48143500e-01  7.24465819e-03  8.06831643e-02\n",
      "  8.80348682e-03  1.11230640e-02 -1.36855856e-01 -6.20631985e-02\n",
      " -1.62874442e-02  8.40829685e-02 -1.03381753e-01 -1.67715661e-02\n",
      "  5.23657650e-02  7.71320239e-02 -7.09302127e-02  6.86720759e-02\n",
      " -1.54404640e-01  1.13428887e-02  1.05276480e-01 -6.31173179e-02\n",
      " -7.51452381e-03 -1.63826928e-01  8.39812234e-02  1.00741282e-01\n",
      "  2.49801893e-02 -6.85657412e-02 -5.32734692e-02 -1.40709773e-01\n",
      " -1.10819656e-02  9.05514285e-02 -2.53291018e-02 -4.87818709e-03\n",
      "  2.07301285e-02  5.77223748e-02 -1.77888781e-01 -3.15795019e-02\n",
      " -1.00661509e-01 -1.86398730e-01  1.35409057e-01  1.79238707e-01\n",
      " -6.72064424e-02  8.75186175e-03 -1.75979346e-01 -1.20449573e-01\n",
      "  2.06724629e-02 -6.30583465e-02 -7.50979036e-02  1.83687750e-02\n",
      "  5.89424707e-02 -2.38795932e-02 -2.95299031e-02  5.20548336e-02\n",
      "  7.04779895e-03 -5.52082621e-02 -1.49189532e-01  4.71820123e-02\n",
      "  3.61007191e-02  4.10213955e-02  4.84687835e-02 -7.19487295e-02\n",
      " -7.85344397e-04 -4.86289635e-02  1.14199787e-03  1.88660577e-01\n",
      " -2.65784096e-02 -4.48432080e-02  3.74115743e-02  1.14715472e-01\n",
      "  8.01950842e-02 -7.71681070e-02 -6.26409352e-02 -1.08316042e-01\n",
      " -8.61916170e-02  2.40122259e-01 -4.86415857e-03 -1.05322890e-01\n",
      " -6.90060258e-02 -7.99614843e-03 -5.30616306e-02  6.59929737e-02\n",
      "  7.12532848e-02 -4.72057313e-02  1.39261521e-02  6.02501705e-02\n",
      "  3.84534411e-02  2.19321802e-01  2.78550219e-02 -3.24212946e-02\n",
      "  3.52318138e-02  9.91603658e-02 -6.51053991e-03  1.47213280e-01\n",
      "  1.50348932e-01  1.36370137e-01 -6.14102036e-02 -2.58118939e-02\n",
      " -1.27931595e-01 -5.40314727e-02 -1.19679913e-01 -9.74595081e-03\n",
      "  1.14990138e-02 -3.17501798e-02  4.67658788e-02  2.02809036e-01\n",
      "  4.75394130e-02  9.31352228e-02  1.14572104e-02  1.61983930e-02\n",
      " -8.34228545e-02 -1.07517481e-01 -2.31687073e-02 -3.13982405e-02\n",
      "  2.11345553e-02  4.76964563e-02 -9.45064425e-02  1.52763892e-02\n",
      " -1.21933711e-03 -1.21481098e-01  7.24243671e-02  6.31233007e-02\n",
      " -5.53393625e-02 -1.72776040e-02  6.04531243e-02  2.09086686e-02]\n"
     ]
    }
   ],
   "source": [
    "print(test_vectors[1])"
   ]
  },
  {
   "cell_type": "code",
   "execution_count": 14,
   "metadata": {},
   "outputs": [],
   "source": [
    "mlpClf = joblib.load(\"../input/spacyw2v-final-model/spacyW2v.sav\")\n",
    "pca1 = PCA(165)\n",
    "pca1.fit(test_vectors)\n",
    "U = pca1.transform(test_vectors)\n",
    "U = U.tolist()\n",
    "\n",
    "\n",
    "\n",
    "\n",
    "\n",
    "\n",
    "y_score_final = mlpClf.predict_proba(U)[:,1]"
   ]
  },
  {
   "cell_type": "code",
   "execution_count": 15,
   "metadata": {},
   "outputs": [
    {
     "name": "stdout",
     "output_type": "stream",
     "text": [
      "0.584286997814753\n"
     ]
    }
   ],
   "source": [
    "print(y_score_final[1])"
   ]
  },
  {
   "cell_type": "code",
   "execution_count": null,
   "metadata": {},
   "outputs": [],
   "source": [
    "df = pd.DataFrame({\"pred_y\": y_score_final}, columns = [\"pred_y\"])"
   ]
  },
  {
   "cell_type": "code",
   "execution_count": null,
   "metadata": {},
   "outputs": [],
   "source": [
    "df.to_csv(\"../working/spacyW2v_test_predictions.csv\")"
   ]
  },
  {
   "cell_type": "code",
   "execution_count": null,
   "metadata": {},
   "outputs": [],
   "source": [
    "y_score = mlpClf.predict_proba(x_validation)[:,1]\n",
    "fpr, tpr, thresholds = roc_curve(y_validation, y_score)\n",
    "roc_auc = auc(fpr, tpr)\n",
    "roc = str(roc_auc)\n",
    "name = f.replace(\".npy\",\"\")+\"_\"+str(i)\n",
    "print(name+\" : \"+str(roc_auc))"
   ]
  },
  {
   "cell_type": "code",
   "execution_count": 8,
   "metadata": {},
   "outputs": [
    {
     "data": {
      "text/plain": [
       "['spacyW2v.sav']"
      ]
     },
     "execution_count": 8,
     "metadata": {},
     "output_type": "execute_result"
    }
   ],
   "source": [
    "listdir(\"../input/spacyw2v-final-model/spacyW2v.sav\")"
   ]
  }
 ],
 "metadata": {
  "kernelspec": {
   "display_name": "Python 3",
   "language": "python",
   "name": "python3"
  },
  "language_info": {
   "codemirror_mode": {
    "name": "ipython",
    "version": 3
   },
   "file_extension": ".py",
   "mimetype": "text/x-python",
   "name": "python",
   "nbconvert_exporter": "python",
   "pygments_lexer": "ipython3",
   "version": "3.7.4"
  }
 },
 "nbformat": 4,
 "nbformat_minor": 4
}
